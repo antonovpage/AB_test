{
 "cells": [
  {
   "cell_type": "markdown",
   "metadata": {},
   "source": [
    "## Описание проекта"
   ]
  },
  {
   "cell_type": "markdown",
   "metadata": {},
   "source": [
    "Вы — аналитик крупного интернет-магазина. Вместе с отделом маркетинга вы подготовили список гипотез для увеличения выручки.\n",
    "Приоритизируйте гипотезы, запустите A/B-тест и проанализируйте результаты."
   ]
  },
  {
   "cell_type": "markdown",
   "metadata": {},
   "source": [
    "## Описание данных"
   ]
  },
  {
   "cell_type": "markdown",
   "metadata": {},
   "source": [
    "<b>Данные для первой части</b>\n",
    "\n",
    "\n",
    "Файл /datasets/hypothesis.csv \n",
    "\n",
    "- Hypothesis — краткое описание гипотезы;\n",
    "- Reach — охват пользователей по 10-балльной шкале;\n",
    "- Impact — влияние на пользователей по 10-балльной шкале;\n",
    "- Confidence — уверенность в гипотезе по 10-балльной шкале;\n",
    "- Efforts — затраты ресурсов на проверку гипотезы по 10-балльной шкале. Чем больше значение Efforts, тем дороже проверка гипотезы.\n",
    "\n",
    "<b>Данные для второй части</b>\n",
    "\n",
    "\n",
    "Файл /datasets/orders.csv\n",
    "\n",
    "- transactionId — идентификатор заказа;\n",
    "- visitorId — идентификатор пользователя, совершившего заказ;\n",
    "- date — дата, когда был совершён заказ;\n",
    "- revenue — выручка заказа;\n",
    "- group — группа A/B-теста, в которую попал заказ.\n",
    "\n",
    "\n",
    "Файл /datasets/visitors.csv\n",
    "- date — дата;\n",
    "- group — группа A/B-теста;\n",
    "- visitors — количество пользователей в указанную дату в указанной группе A/B-теста"
   ]
  },
  {
   "cell_type": "markdown",
   "metadata": {},
   "source": [
    "## Библиотеки"
   ]
  },
  {
   "cell_type": "code",
   "execution_count": 1,
   "metadata": {},
   "outputs": [],
   "source": [
    "import pandas as pd\n",
    "import scipy.stats as stats\n",
    "import datetime as dt\n",
    "import numpy as np\n",
    "import matplotlib.pyplot as plt"
   ]
  },
  {
   "cell_type": "markdown",
   "metadata": {},
   "source": [
    "## Часть 1. Приоритизация гипотез.\n",
    "\n",
    "В файле /datasets/hypothesis.csv 9 гипотез по увеличению выручки интернет-магазина с указанными параметрами Reach, Impact, Confidence, Effort."
   ]
  },
  {
   "cell_type": "markdown",
   "metadata": {},
   "source": [
    "### Применим фреймворк ICE для приоритизации гипотез. Отсортируем их по убыванию приоритета."
   ]
  },
  {
   "cell_type": "code",
   "execution_count": 2,
   "metadata": {},
   "outputs": [
    {
     "data": {
      "text/html": [
       "<div>\n",
       "<style scoped>\n",
       "    .dataframe tbody tr th:only-of-type {\n",
       "        vertical-align: middle;\n",
       "    }\n",
       "\n",
       "    .dataframe tbody tr th {\n",
       "        vertical-align: top;\n",
       "    }\n",
       "\n",
       "    .dataframe thead th {\n",
       "        text-align: right;\n",
       "    }\n",
       "</style>\n",
       "<table border=\"1\" class=\"dataframe\">\n",
       "  <thead>\n",
       "    <tr style=\"text-align: right;\">\n",
       "      <th></th>\n",
       "      <th>Hypothesis</th>\n",
       "      <th>Reach</th>\n",
       "      <th>Impact</th>\n",
       "      <th>Confidence</th>\n",
       "      <th>Efforts</th>\n",
       "    </tr>\n",
       "  </thead>\n",
       "  <tbody>\n",
       "    <tr>\n",
       "      <td>0</td>\n",
       "      <td>Добавить два новых канала привлечения трафика,...</td>\n",
       "      <td>3</td>\n",
       "      <td>10</td>\n",
       "      <td>8</td>\n",
       "      <td>6</td>\n",
       "    </tr>\n",
       "    <tr>\n",
       "      <td>1</td>\n",
       "      <td>Запустить собственную службу доставки, что сок...</td>\n",
       "      <td>2</td>\n",
       "      <td>5</td>\n",
       "      <td>4</td>\n",
       "      <td>10</td>\n",
       "    </tr>\n",
       "    <tr>\n",
       "      <td>2</td>\n",
       "      <td>Добавить блоки рекомендаций товаров на сайт ин...</td>\n",
       "      <td>8</td>\n",
       "      <td>3</td>\n",
       "      <td>7</td>\n",
       "      <td>3</td>\n",
       "    </tr>\n",
       "    <tr>\n",
       "      <td>3</td>\n",
       "      <td>Изменить структура категорий, что увеличит кон...</td>\n",
       "      <td>8</td>\n",
       "      <td>3</td>\n",
       "      <td>3</td>\n",
       "      <td>8</td>\n",
       "    </tr>\n",
       "    <tr>\n",
       "      <td>4</td>\n",
       "      <td>Изменить цвет фона главной страницы, чтобы уве...</td>\n",
       "      <td>3</td>\n",
       "      <td>1</td>\n",
       "      <td>1</td>\n",
       "      <td>1</td>\n",
       "    </tr>\n",
       "    <tr>\n",
       "      <td>5</td>\n",
       "      <td>Добавить страницу отзывов клиентов о магазине,...</td>\n",
       "      <td>3</td>\n",
       "      <td>2</td>\n",
       "      <td>2</td>\n",
       "      <td>3</td>\n",
       "    </tr>\n",
       "    <tr>\n",
       "      <td>6</td>\n",
       "      <td>Показать на главной странице баннеры с актуаль...</td>\n",
       "      <td>5</td>\n",
       "      <td>3</td>\n",
       "      <td>8</td>\n",
       "      <td>3</td>\n",
       "    </tr>\n",
       "    <tr>\n",
       "      <td>7</td>\n",
       "      <td>Добавить форму подписки на все основные страни...</td>\n",
       "      <td>10</td>\n",
       "      <td>7</td>\n",
       "      <td>8</td>\n",
       "      <td>5</td>\n",
       "    </tr>\n",
       "    <tr>\n",
       "      <td>8</td>\n",
       "      <td>Запустить акцию, дающую скидку на товар в день...</td>\n",
       "      <td>1</td>\n",
       "      <td>9</td>\n",
       "      <td>9</td>\n",
       "      <td>5</td>\n",
       "    </tr>\n",
       "  </tbody>\n",
       "</table>\n",
       "</div>"
      ],
      "text/plain": [
       "                                          Hypothesis  Reach  Impact  \\\n",
       "0  Добавить два новых канала привлечения трафика,...      3      10   \n",
       "1  Запустить собственную службу доставки, что сок...      2       5   \n",
       "2  Добавить блоки рекомендаций товаров на сайт ин...      8       3   \n",
       "3  Изменить структура категорий, что увеличит кон...      8       3   \n",
       "4  Изменить цвет фона главной страницы, чтобы уве...      3       1   \n",
       "5  Добавить страницу отзывов клиентов о магазине,...      3       2   \n",
       "6  Показать на главной странице баннеры с актуаль...      5       3   \n",
       "7  Добавить форму подписки на все основные страни...     10       7   \n",
       "8  Запустить акцию, дающую скидку на товар в день...      1       9   \n",
       "\n",
       "   Confidence  Efforts  \n",
       "0           8        6  \n",
       "1           4       10  \n",
       "2           7        3  \n",
       "3           3        8  \n",
       "4           1        1  \n",
       "5           2        3  \n",
       "6           8        3  \n",
       "7           8        5  \n",
       "8           9        5  "
      ]
     },
     "execution_count": 2,
     "metadata": {},
     "output_type": "execute_result"
    }
   ],
   "source": [
    "data = pd.read_csv('/datasets/hypothesis.csv', sep=',')\n",
    "data"
   ]
  },
  {
   "cell_type": "markdown",
   "metadata": {},
   "source": [
    "Посчитаем ICE для гипотез. Добавим полученные значения ICE к существующей таблице. Новый столбец назовём ICE. \n",
    "\n",
    "Выведим столбцы 'hypothesis' и 'ICE', отсортированные по столбцу 'ICE'."
   ]
  },
  {
   "cell_type": "code",
   "execution_count": 3,
   "metadata": {},
   "outputs": [
    {
     "data": {
      "text/html": [
       "<div>\n",
       "<style scoped>\n",
       "    .dataframe tbody tr th:only-of-type {\n",
       "        vertical-align: middle;\n",
       "    }\n",
       "\n",
       "    .dataframe tbody tr th {\n",
       "        vertical-align: top;\n",
       "    }\n",
       "\n",
       "    .dataframe thead th {\n",
       "        text-align: right;\n",
       "    }\n",
       "</style>\n",
       "<table border=\"1\" class=\"dataframe\">\n",
       "  <thead>\n",
       "    <tr style=\"text-align: right;\">\n",
       "      <th></th>\n",
       "      <th>Hypothesis</th>\n",
       "      <th>ICE</th>\n",
       "    </tr>\n",
       "  </thead>\n",
       "  <tbody>\n",
       "    <tr>\n",
       "      <td>8</td>\n",
       "      <td>Запустить акцию, дающую скидку на товар в день...</td>\n",
       "      <td>16.200000</td>\n",
       "    </tr>\n",
       "    <tr>\n",
       "      <td>0</td>\n",
       "      <td>Добавить два новых канала привлечения трафика,...</td>\n",
       "      <td>13.333333</td>\n",
       "    </tr>\n",
       "    <tr>\n",
       "      <td>7</td>\n",
       "      <td>Добавить форму подписки на все основные страни...</td>\n",
       "      <td>11.200000</td>\n",
       "    </tr>\n",
       "    <tr>\n",
       "      <td>6</td>\n",
       "      <td>Показать на главной странице баннеры с актуаль...</td>\n",
       "      <td>8.000000</td>\n",
       "    </tr>\n",
       "    <tr>\n",
       "      <td>2</td>\n",
       "      <td>Добавить блоки рекомендаций товаров на сайт ин...</td>\n",
       "      <td>7.000000</td>\n",
       "    </tr>\n",
       "    <tr>\n",
       "      <td>1</td>\n",
       "      <td>Запустить собственную службу доставки, что сок...</td>\n",
       "      <td>2.000000</td>\n",
       "    </tr>\n",
       "    <tr>\n",
       "      <td>5</td>\n",
       "      <td>Добавить страницу отзывов клиентов о магазине,...</td>\n",
       "      <td>1.333333</td>\n",
       "    </tr>\n",
       "    <tr>\n",
       "      <td>3</td>\n",
       "      <td>Изменить структура категорий, что увеличит кон...</td>\n",
       "      <td>1.125000</td>\n",
       "    </tr>\n",
       "    <tr>\n",
       "      <td>4</td>\n",
       "      <td>Изменить цвет фона главной страницы, чтобы уве...</td>\n",
       "      <td>1.000000</td>\n",
       "    </tr>\n",
       "  </tbody>\n",
       "</table>\n",
       "</div>"
      ],
      "text/plain": [
       "                                          Hypothesis        ICE\n",
       "8  Запустить акцию, дающую скидку на товар в день...  16.200000\n",
       "0  Добавить два новых канала привлечения трафика,...  13.333333\n",
       "7  Добавить форму подписки на все основные страни...  11.200000\n",
       "6  Показать на главной странице баннеры с актуаль...   8.000000\n",
       "2  Добавить блоки рекомендаций товаров на сайт ин...   7.000000\n",
       "1  Запустить собственную службу доставки, что сок...   2.000000\n",
       "5  Добавить страницу отзывов клиентов о магазине,...   1.333333\n",
       "3  Изменить структура категорий, что увеличит кон...   1.125000\n",
       "4  Изменить цвет фона главной страницы, чтобы уве...   1.000000"
      ]
     },
     "metadata": {},
     "output_type": "display_data"
    }
   ],
   "source": [
    "data['ICE'] = data['Impact'] * data['Confidence'] / data['Efforts']\n",
    "\n",
    "display(data[['Hypothesis', 'ICE']].sort_values(by='ICE', ascending=False))"
   ]
  },
  {
   "cell_type": "markdown",
   "metadata": {},
   "source": [
    "Наиболее перспективные гипотезы по ICE: 8, 0, 7, 6"
   ]
  },
  {
   "cell_type": "markdown",
   "metadata": {},
   "source": [
    "### Применим фреймворк RICE для приоритизации гипотез. Отсортируем их по убыванию приоритета."
   ]
  },
  {
   "cell_type": "markdown",
   "metadata": {},
   "source": [
    "Посчитаем RICE для гипотез. Добавим полученные значения RICE к существующей таблице. Новый столбец назовём RICE.\n",
    "\n",
    "Выведим из получившейся таблицы столбцы 'hypothesis' и 'RICE', отсортированные по столбцу 'RICE'."
   ]
  },
  {
   "cell_type": "code",
   "execution_count": 4,
   "metadata": {},
   "outputs": [
    {
     "data": {
      "text/html": [
       "<div>\n",
       "<style scoped>\n",
       "    .dataframe tbody tr th:only-of-type {\n",
       "        vertical-align: middle;\n",
       "    }\n",
       "\n",
       "    .dataframe tbody tr th {\n",
       "        vertical-align: top;\n",
       "    }\n",
       "\n",
       "    .dataframe thead th {\n",
       "        text-align: right;\n",
       "    }\n",
       "</style>\n",
       "<table border=\"1\" class=\"dataframe\">\n",
       "  <thead>\n",
       "    <tr style=\"text-align: right;\">\n",
       "      <th></th>\n",
       "      <th>Hypothesis</th>\n",
       "      <th>RICE</th>\n",
       "    </tr>\n",
       "  </thead>\n",
       "  <tbody>\n",
       "    <tr>\n",
       "      <td>7</td>\n",
       "      <td>Добавить форму подписки на все основные страни...</td>\n",
       "      <td>112.0</td>\n",
       "    </tr>\n",
       "    <tr>\n",
       "      <td>2</td>\n",
       "      <td>Добавить блоки рекомендаций товаров на сайт ин...</td>\n",
       "      <td>56.0</td>\n",
       "    </tr>\n",
       "    <tr>\n",
       "      <td>0</td>\n",
       "      <td>Добавить два новых канала привлечения трафика,...</td>\n",
       "      <td>40.0</td>\n",
       "    </tr>\n",
       "    <tr>\n",
       "      <td>6</td>\n",
       "      <td>Показать на главной странице баннеры с актуаль...</td>\n",
       "      <td>40.0</td>\n",
       "    </tr>\n",
       "    <tr>\n",
       "      <td>8</td>\n",
       "      <td>Запустить акцию, дающую скидку на товар в день...</td>\n",
       "      <td>16.2</td>\n",
       "    </tr>\n",
       "    <tr>\n",
       "      <td>3</td>\n",
       "      <td>Изменить структура категорий, что увеличит кон...</td>\n",
       "      <td>9.0</td>\n",
       "    </tr>\n",
       "    <tr>\n",
       "      <td>1</td>\n",
       "      <td>Запустить собственную службу доставки, что сок...</td>\n",
       "      <td>4.0</td>\n",
       "    </tr>\n",
       "    <tr>\n",
       "      <td>5</td>\n",
       "      <td>Добавить страницу отзывов клиентов о магазине,...</td>\n",
       "      <td>4.0</td>\n",
       "    </tr>\n",
       "    <tr>\n",
       "      <td>4</td>\n",
       "      <td>Изменить цвет фона главной страницы, чтобы уве...</td>\n",
       "      <td>3.0</td>\n",
       "    </tr>\n",
       "  </tbody>\n",
       "</table>\n",
       "</div>"
      ],
      "text/plain": [
       "                                          Hypothesis   RICE\n",
       "7  Добавить форму подписки на все основные страни...  112.0\n",
       "2  Добавить блоки рекомендаций товаров на сайт ин...   56.0\n",
       "0  Добавить два новых канала привлечения трафика,...   40.0\n",
       "6  Показать на главной странице баннеры с актуаль...   40.0\n",
       "8  Запустить акцию, дающую скидку на товар в день...   16.2\n",
       "3  Изменить структура категорий, что увеличит кон...    9.0\n",
       "1  Запустить собственную службу доставки, что сок...    4.0\n",
       "5  Добавить страницу отзывов клиентов о магазине,...    4.0\n",
       "4  Изменить цвет фона главной страницы, чтобы уве...    3.0"
      ]
     },
     "metadata": {},
     "output_type": "display_data"
    }
   ],
   "source": [
    "data['RICE'] = data['Reach'] * data['Impact'] * data['Confidence'] / data['Efforts']\n",
    "\n",
    "display(data[['Hypothesis', 'RICE']].sort_values(by='RICE', ascending=False))"
   ]
  },
  {
   "cell_type": "markdown",
   "metadata": {},
   "source": [
    "Наиболее перспектвные гипотезы: 7, 2, 0 и 6. Однако на первом месте уже гипотеза под номером 7. Так получилось, потому что ее параметр Reach равен 10, в то время как у других гипотез он меньше."
   ]
  },
  {
   "cell_type": "markdown",
   "metadata": {},
   "source": [
    "## Часть 2. Анализ A/B-теста"
   ]
  },
  {
   "cell_type": "markdown",
   "metadata": {},
   "source": [
    "Мы провели A/B-тест и получили результаты, которые описаны в файлах /datasets/orders.csv и /datasets/visitors.csv.\n",
    "\n",
    "Проанализируем А/В тест."
   ]
  },
  {
   "cell_type": "code",
   "execution_count": 5,
   "metadata": {},
   "outputs": [
    {
     "data": {
      "text/html": [
       "<div>\n",
       "<style scoped>\n",
       "    .dataframe tbody tr th:only-of-type {\n",
       "        vertical-align: middle;\n",
       "    }\n",
       "\n",
       "    .dataframe tbody tr th {\n",
       "        vertical-align: top;\n",
       "    }\n",
       "\n",
       "    .dataframe thead th {\n",
       "        text-align: right;\n",
       "    }\n",
       "</style>\n",
       "<table border=\"1\" class=\"dataframe\">\n",
       "  <thead>\n",
       "    <tr style=\"text-align: right;\">\n",
       "      <th></th>\n",
       "      <th>transactionId</th>\n",
       "      <th>visitorId</th>\n",
       "      <th>date</th>\n",
       "      <th>revenue</th>\n",
       "      <th>group</th>\n",
       "    </tr>\n",
       "  </thead>\n",
       "  <tbody>\n",
       "    <tr>\n",
       "      <td>0</td>\n",
       "      <td>3667963787</td>\n",
       "      <td>3312258926</td>\n",
       "      <td>2019-08-15</td>\n",
       "      <td>1650</td>\n",
       "      <td>B</td>\n",
       "    </tr>\n",
       "    <tr>\n",
       "      <td>1</td>\n",
       "      <td>2804400009</td>\n",
       "      <td>3642806036</td>\n",
       "      <td>2019-08-15</td>\n",
       "      <td>730</td>\n",
       "      <td>B</td>\n",
       "    </tr>\n",
       "    <tr>\n",
       "      <td>2</td>\n",
       "      <td>2961555356</td>\n",
       "      <td>4069496402</td>\n",
       "      <td>2019-08-15</td>\n",
       "      <td>400</td>\n",
       "      <td>A</td>\n",
       "    </tr>\n",
       "    <tr>\n",
       "      <td>3</td>\n",
       "      <td>3797467345</td>\n",
       "      <td>1196621759</td>\n",
       "      <td>2019-08-15</td>\n",
       "      <td>9759</td>\n",
       "      <td>B</td>\n",
       "    </tr>\n",
       "    <tr>\n",
       "      <td>4</td>\n",
       "      <td>2282983706</td>\n",
       "      <td>2322279887</td>\n",
       "      <td>2019-08-15</td>\n",
       "      <td>2308</td>\n",
       "      <td>B</td>\n",
       "    </tr>\n",
       "  </tbody>\n",
       "</table>\n",
       "</div>"
      ],
      "text/plain": [
       "   transactionId   visitorId       date  revenue group\n",
       "0     3667963787  3312258926 2019-08-15     1650     B\n",
       "1     2804400009  3642806036 2019-08-15      730     B\n",
       "2     2961555356  4069496402 2019-08-15      400     A\n",
       "3     3797467345  1196621759 2019-08-15     9759     B\n",
       "4     2282983706  2322279887 2019-08-15     2308     B"
      ]
     },
     "execution_count": 5,
     "metadata": {},
     "output_type": "execute_result"
    }
   ],
   "source": [
    "orders = pd.read_csv('/datasets/orders.csv', sep=',')\n",
    "orders['date'] = orders['date'].map(\n",
    "    lambda x: dt.datetime.strptime(x, '%Y-%m-%d')\n",
    ")\n",
    "orders.head()"
   ]
  },
  {
   "cell_type": "markdown",
   "metadata": {},
   "source": [
    "Проверим, есть ли пользователи, которые попали в две группы одновременно. Для этого вызовем функцию из numpy, ей передадим два массива, а она вернет те значения, которые встречаются в обоих массивах. В Данном случае массивы - это список уникальных visitorId в каждой группе, в формате array"
   ]
  },
  {
   "cell_type": "code",
   "execution_count": 6,
   "metadata": {},
   "outputs": [
    {
     "data": {
      "text/plain": [
       "array([   8300375,  199603092,  232979603,  237748145,  276558944,\n",
       "        351125977,  393266494,  457167155,  471551937,  477780734,\n",
       "        818047933,  963407295, 1230306981, 1294878855, 1316129916,\n",
       "       1333886533, 1404934699, 1602967004, 1614305549, 1648269707,\n",
       "       1668030113, 1738359350, 1801183820, 1959144690, 2038680547,\n",
       "       2044997962, 2378935119, 2458001652, 2579882178, 2587333274,\n",
       "       2600415354, 2654030115, 2686716486, 2712142231, 2716752286,\n",
       "       2780786433, 2927087541, 2949041841, 2954449915, 3062433592,\n",
       "       3202540741, 3234906277, 3656415546, 3717692402, 3766097110,\n",
       "       3803269165, 3891541246, 3941795274, 3951559397, 3957174400,\n",
       "       3963646447, 3972127743, 3984495233, 4069496402, 4120364173,\n",
       "       4186807279, 4256040402, 4266935830])"
      ]
     },
     "execution_count": 6,
     "metadata": {},
     "output_type": "execute_result"
    }
   ],
   "source": [
    "mutual_visitors = np.intersect1d(orders.query('group == \"A\"')['visitorId'].unique(), orders.query('group == \"B\"')['visitorId'].unique())\n",
    "mutual_visitors"
   ]
  },
  {
   "cell_type": "markdown",
   "metadata": {},
   "source": [
    "Отфильтруем таблицу от повторяющихся пользователей:"
   ]
  },
  {
   "cell_type": "code",
   "execution_count": 7,
   "metadata": {},
   "outputs": [
    {
     "name": "stdout",
     "output_type": "stream",
     "text": [
      "<class 'pandas.core.frame.DataFrame'>\n",
      "Int64Index: 1016 entries, 0 to 1196\n",
      "Data columns (total 5 columns):\n",
      "transactionId    1016 non-null int64\n",
      "visitorId        1016 non-null int64\n",
      "date             1016 non-null datetime64[ns]\n",
      "revenue          1016 non-null int64\n",
      "group            1016 non-null object\n",
      "dtypes: datetime64[ns](1), int64(3), object(1)\n",
      "memory usage: 47.6+ KB\n"
     ]
    }
   ],
   "source": [
    "orders = orders[~orders['visitorId'].isin(mutual_visitors)]\n",
    "orders.info()"
   ]
  },
  {
   "cell_type": "code",
   "execution_count": 8,
   "metadata": {},
   "outputs": [
    {
     "data": {
      "text/html": [
       "<div>\n",
       "<style scoped>\n",
       "    .dataframe tbody tr th:only-of-type {\n",
       "        vertical-align: middle;\n",
       "    }\n",
       "\n",
       "    .dataframe tbody tr th {\n",
       "        vertical-align: top;\n",
       "    }\n",
       "\n",
       "    .dataframe thead th {\n",
       "        text-align: right;\n",
       "    }\n",
       "</style>\n",
       "<table border=\"1\" class=\"dataframe\">\n",
       "  <thead>\n",
       "    <tr style=\"text-align: right;\">\n",
       "      <th></th>\n",
       "      <th>transactionId</th>\n",
       "      <th>visitorId</th>\n",
       "      <th>date</th>\n",
       "      <th>revenue</th>\n",
       "      <th>group</th>\n",
       "    </tr>\n",
       "  </thead>\n",
       "  <tbody>\n",
       "    <tr>\n",
       "      <td>0</td>\n",
       "      <td>3667963787</td>\n",
       "      <td>3312258926</td>\n",
       "      <td>2019-08-15</td>\n",
       "      <td>1650</td>\n",
       "      <td>B</td>\n",
       "    </tr>\n",
       "    <tr>\n",
       "      <td>1</td>\n",
       "      <td>2804400009</td>\n",
       "      <td>3642806036</td>\n",
       "      <td>2019-08-15</td>\n",
       "      <td>730</td>\n",
       "      <td>B</td>\n",
       "    </tr>\n",
       "    <tr>\n",
       "      <td>3</td>\n",
       "      <td>3797467345</td>\n",
       "      <td>1196621759</td>\n",
       "      <td>2019-08-15</td>\n",
       "      <td>9759</td>\n",
       "      <td>B</td>\n",
       "    </tr>\n",
       "    <tr>\n",
       "      <td>4</td>\n",
       "      <td>2282983706</td>\n",
       "      <td>2322279887</td>\n",
       "      <td>2019-08-15</td>\n",
       "      <td>2308</td>\n",
       "      <td>B</td>\n",
       "    </tr>\n",
       "    <tr>\n",
       "      <td>5</td>\n",
       "      <td>182168103</td>\n",
       "      <td>935554773</td>\n",
       "      <td>2019-08-15</td>\n",
       "      <td>2210</td>\n",
       "      <td>B</td>\n",
       "    </tr>\n",
       "    <tr>\n",
       "      <td>...</td>\n",
       "      <td>...</td>\n",
       "      <td>...</td>\n",
       "      <td>...</td>\n",
       "      <td>...</td>\n",
       "      <td>...</td>\n",
       "    </tr>\n",
       "    <tr>\n",
       "      <td>1191</td>\n",
       "      <td>3592955527</td>\n",
       "      <td>608641596</td>\n",
       "      <td>2019-08-14</td>\n",
       "      <td>16490</td>\n",
       "      <td>B</td>\n",
       "    </tr>\n",
       "    <tr>\n",
       "      <td>1192</td>\n",
       "      <td>2662137336</td>\n",
       "      <td>3733762160</td>\n",
       "      <td>2019-08-14</td>\n",
       "      <td>6490</td>\n",
       "      <td>B</td>\n",
       "    </tr>\n",
       "    <tr>\n",
       "      <td>1193</td>\n",
       "      <td>2203539145</td>\n",
       "      <td>370388673</td>\n",
       "      <td>2019-08-14</td>\n",
       "      <td>3190</td>\n",
       "      <td>A</td>\n",
       "    </tr>\n",
       "    <tr>\n",
       "      <td>1194</td>\n",
       "      <td>1807773912</td>\n",
       "      <td>573423106</td>\n",
       "      <td>2019-08-14</td>\n",
       "      <td>10550</td>\n",
       "      <td>A</td>\n",
       "    </tr>\n",
       "    <tr>\n",
       "      <td>1196</td>\n",
       "      <td>3936777065</td>\n",
       "      <td>2108080724</td>\n",
       "      <td>2019-08-15</td>\n",
       "      <td>202740</td>\n",
       "      <td>B</td>\n",
       "    </tr>\n",
       "  </tbody>\n",
       "</table>\n",
       "<p>1016 rows × 5 columns</p>\n",
       "</div>"
      ],
      "text/plain": [
       "      transactionId   visitorId       date  revenue group\n",
       "0        3667963787  3312258926 2019-08-15     1650     B\n",
       "1        2804400009  3642806036 2019-08-15      730     B\n",
       "3        3797467345  1196621759 2019-08-15     9759     B\n",
       "4        2282983706  2322279887 2019-08-15     2308     B\n",
       "5         182168103   935554773 2019-08-15     2210     B\n",
       "...             ...         ...        ...      ...   ...\n",
       "1191     3592955527   608641596 2019-08-14    16490     B\n",
       "1192     2662137336  3733762160 2019-08-14     6490     B\n",
       "1193     2203539145   370388673 2019-08-14     3190     A\n",
       "1194     1807773912   573423106 2019-08-14    10550     A\n",
       "1196     3936777065  2108080724 2019-08-15   202740     B\n",
       "\n",
       "[1016 rows x 5 columns]"
      ]
     },
     "execution_count": 8,
     "metadata": {},
     "output_type": "execute_result"
    }
   ],
   "source": [
    "orders.drop_duplicates()"
   ]
  },
  {
   "cell_type": "code",
   "execution_count": 9,
   "metadata": {},
   "outputs": [
    {
     "data": {
      "text/plain": [
       "Timestamp('2019-08-01 00:00:00')"
      ]
     },
     "execution_count": 9,
     "metadata": {},
     "output_type": "execute_result"
    }
   ],
   "source": [
    "orders['date'].min()"
   ]
  },
  {
   "cell_type": "code",
   "execution_count": 10,
   "metadata": {},
   "outputs": [
    {
     "data": {
      "text/plain": [
       "Timestamp('2019-08-31 00:00:00')"
      ]
     },
     "execution_count": 10,
     "metadata": {},
     "output_type": "execute_result"
    }
   ],
   "source": [
    "orders['date'].max()"
   ]
  },
  {
   "cell_type": "code",
   "execution_count": 11,
   "metadata": {},
   "outputs": [
    {
     "data": {
      "text/html": [
       "<div>\n",
       "<style scoped>\n",
       "    .dataframe tbody tr th:only-of-type {\n",
       "        vertical-align: middle;\n",
       "    }\n",
       "\n",
       "    .dataframe tbody tr th {\n",
       "        vertical-align: top;\n",
       "    }\n",
       "\n",
       "    .dataframe thead th {\n",
       "        text-align: right;\n",
       "    }\n",
       "</style>\n",
       "<table border=\"1\" class=\"dataframe\">\n",
       "  <thead>\n",
       "    <tr style=\"text-align: right;\">\n",
       "      <th></th>\n",
       "      <th>date</th>\n",
       "      <th>group</th>\n",
       "      <th>visitors</th>\n",
       "    </tr>\n",
       "  </thead>\n",
       "  <tbody>\n",
       "    <tr>\n",
       "      <td>0</td>\n",
       "      <td>2019-08-01</td>\n",
       "      <td>A</td>\n",
       "      <td>719</td>\n",
       "    </tr>\n",
       "    <tr>\n",
       "      <td>1</td>\n",
       "      <td>2019-08-02</td>\n",
       "      <td>A</td>\n",
       "      <td>619</td>\n",
       "    </tr>\n",
       "    <tr>\n",
       "      <td>2</td>\n",
       "      <td>2019-08-03</td>\n",
       "      <td>A</td>\n",
       "      <td>507</td>\n",
       "    </tr>\n",
       "    <tr>\n",
       "      <td>3</td>\n",
       "      <td>2019-08-04</td>\n",
       "      <td>A</td>\n",
       "      <td>717</td>\n",
       "    </tr>\n",
       "    <tr>\n",
       "      <td>4</td>\n",
       "      <td>2019-08-05</td>\n",
       "      <td>A</td>\n",
       "      <td>756</td>\n",
       "    </tr>\n",
       "  </tbody>\n",
       "</table>\n",
       "</div>"
      ],
      "text/plain": [
       "        date group  visitors\n",
       "0 2019-08-01     A       719\n",
       "1 2019-08-02     A       619\n",
       "2 2019-08-03     A       507\n",
       "3 2019-08-04     A       717\n",
       "4 2019-08-05     A       756"
      ]
     },
     "execution_count": 11,
     "metadata": {},
     "output_type": "execute_result"
    }
   ],
   "source": [
    "visitors = pd.read_csv('/datasets/visitors.csv', sep=',')\n",
    "visitors['date'] = visitors['date'].map(\n",
    "    lambda x: dt.datetime.strptime(x, '%Y-%m-%d')\n",
    ")\n",
    "visitors.head()"
   ]
  },
  {
   "cell_type": "code",
   "execution_count": 12,
   "metadata": {},
   "outputs": [
    {
     "name": "stdout",
     "output_type": "stream",
     "text": [
      "<class 'pandas.core.frame.DataFrame'>\n",
      "RangeIndex: 62 entries, 0 to 61\n",
      "Data columns (total 3 columns):\n",
      "date        62 non-null datetime64[ns]\n",
      "group       62 non-null object\n",
      "visitors    62 non-null int64\n",
      "dtypes: datetime64[ns](1), int64(1), object(1)\n",
      "memory usage: 1.6+ KB\n"
     ]
    }
   ],
   "source": [
    "visitors.info()"
   ]
  },
  {
   "cell_type": "code",
   "execution_count": 13,
   "metadata": {},
   "outputs": [
    {
     "data": {
      "text/html": [
       "<div>\n",
       "<style scoped>\n",
       "    .dataframe tbody tr th:only-of-type {\n",
       "        vertical-align: middle;\n",
       "    }\n",
       "\n",
       "    .dataframe tbody tr th {\n",
       "        vertical-align: top;\n",
       "    }\n",
       "\n",
       "    .dataframe thead th {\n",
       "        text-align: right;\n",
       "    }\n",
       "</style>\n",
       "<table border=\"1\" class=\"dataframe\">\n",
       "  <thead>\n",
       "    <tr style=\"text-align: right;\">\n",
       "      <th></th>\n",
       "      <th>date</th>\n",
       "      <th>group</th>\n",
       "      <th>visitors</th>\n",
       "    </tr>\n",
       "  </thead>\n",
       "  <tbody>\n",
       "    <tr>\n",
       "      <td>0</td>\n",
       "      <td>2019-08-01</td>\n",
       "      <td>A</td>\n",
       "      <td>719</td>\n",
       "    </tr>\n",
       "    <tr>\n",
       "      <td>1</td>\n",
       "      <td>2019-08-02</td>\n",
       "      <td>A</td>\n",
       "      <td>619</td>\n",
       "    </tr>\n",
       "    <tr>\n",
       "      <td>2</td>\n",
       "      <td>2019-08-03</td>\n",
       "      <td>A</td>\n",
       "      <td>507</td>\n",
       "    </tr>\n",
       "    <tr>\n",
       "      <td>3</td>\n",
       "      <td>2019-08-04</td>\n",
       "      <td>A</td>\n",
       "      <td>717</td>\n",
       "    </tr>\n",
       "    <tr>\n",
       "      <td>4</td>\n",
       "      <td>2019-08-05</td>\n",
       "      <td>A</td>\n",
       "      <td>756</td>\n",
       "    </tr>\n",
       "    <tr>\n",
       "      <td>...</td>\n",
       "      <td>...</td>\n",
       "      <td>...</td>\n",
       "      <td>...</td>\n",
       "    </tr>\n",
       "    <tr>\n",
       "      <td>57</td>\n",
       "      <td>2019-08-27</td>\n",
       "      <td>B</td>\n",
       "      <td>720</td>\n",
       "    </tr>\n",
       "    <tr>\n",
       "      <td>58</td>\n",
       "      <td>2019-08-28</td>\n",
       "      <td>B</td>\n",
       "      <td>654</td>\n",
       "    </tr>\n",
       "    <tr>\n",
       "      <td>59</td>\n",
       "      <td>2019-08-29</td>\n",
       "      <td>B</td>\n",
       "      <td>531</td>\n",
       "    </tr>\n",
       "    <tr>\n",
       "      <td>60</td>\n",
       "      <td>2019-08-30</td>\n",
       "      <td>B</td>\n",
       "      <td>490</td>\n",
       "    </tr>\n",
       "    <tr>\n",
       "      <td>61</td>\n",
       "      <td>2019-08-31</td>\n",
       "      <td>B</td>\n",
       "      <td>718</td>\n",
       "    </tr>\n",
       "  </tbody>\n",
       "</table>\n",
       "<p>62 rows × 3 columns</p>\n",
       "</div>"
      ],
      "text/plain": [
       "         date group  visitors\n",
       "0  2019-08-01     A       719\n",
       "1  2019-08-02     A       619\n",
       "2  2019-08-03     A       507\n",
       "3  2019-08-04     A       717\n",
       "4  2019-08-05     A       756\n",
       "..        ...   ...       ...\n",
       "57 2019-08-27     B       720\n",
       "58 2019-08-28     B       654\n",
       "59 2019-08-29     B       531\n",
       "60 2019-08-30     B       490\n",
       "61 2019-08-31     B       718\n",
       "\n",
       "[62 rows x 3 columns]"
      ]
     },
     "execution_count": 13,
     "metadata": {},
     "output_type": "execute_result"
    }
   ],
   "source": [
    "visitors.drop_duplicates()"
   ]
  },
  {
   "cell_type": "markdown",
   "metadata": {},
   "source": [
    "Посмотрели общую информацию о данных, удалили пользователей, попавших в обе группы, удалили дубликаты.\n",
    "\n",
    "Данные готовы к анализу."
   ]
  },
  {
   "cell_type": "markdown",
   "metadata": {},
   "source": [
    "### Построим график кумулятивной выручки по группам."
   ]
  },
  {
   "cell_type": "markdown",
   "metadata": {},
   "source": [
    "Создадим датафрейм datesGroups с уникальными парами значений 'date' и 'group', таблицы orders. Избавимся от дубликатов методом drop_duplicates()"
   ]
  },
  {
   "cell_type": "code",
   "execution_count": 14,
   "metadata": {},
   "outputs": [],
   "source": [
    "datesGroups = orders[['date','group']].drop_duplicates()"
   ]
  },
  {
   "cell_type": "markdown",
   "metadata": {},
   "source": [
    "Объявим переменную ordersAggregated, содержащую:\n",
    "\n",
    "- дату;\n",
    "- группу A/B-теста;\n",
    "- число уникальных заказов в группе теста по указанную дату включительно;\n",
    "- число уникальных пользователей, совершивших хотя бы 1 заказ в группе теста по указанную дату включительно;\n",
    "- суммарную выручку заказов в группе теста по указанную дату включительно.\n",
    "\n",
    "Отсортируем по столбцам 'date', 'group'."
   ]
  },
  {
   "cell_type": "code",
   "execution_count": 15,
   "metadata": {},
   "outputs": [],
   "source": [
    "ordersAggregated = datesGroups.apply(lambda x: orders[np.logical_and(orders['date'] <= x['date'], orders['group'] == x['group'])]\\\n",
    ".agg({'date' : 'max', 'group' : 'max', 'transactionId' : 'nunique', 'visitorId' : 'nunique', 'revenue' : 'sum'}), axis=1).sort_values(by=['date','group'])"
   ]
  },
  {
   "cell_type": "markdown",
   "metadata": {},
   "source": [
    "Объявиим переменную visitorsAggregated, содержащую:\n",
    "\n",
    "- дату;\n",
    "- группу A/B-теста;\n",
    "- количество уникальных посетителей в группе теста по указанную дату включительно.\n",
    "\n",
    "Отсортируем по столбцам 'date', 'group'."
   ]
  },
  {
   "cell_type": "code",
   "execution_count": 16,
   "metadata": {},
   "outputs": [],
   "source": [
    "visitorsAggregated = datesGroups.apply(lambda x: visitors[np.logical_and(visitors['date'] <= x['date'], visitors['group'] == x['group'])].agg({'date' : 'max', 'group' : 'max', 'visitors' : 'sum'}), axis=1).sort_values(by=['date','group'])"
   ]
  },
  {
   "cell_type": "markdown",
   "metadata": {},
   "source": [
    "Определим переменную cumulativeData, объединив ordersAggregated и visitorsAggregated по колонкам 'date', 'group' методом merge().\n",
    "\n",
    "Присвоим столбцам cumulativeData названия ['date', 'group', 'orders', 'buyers', 'revenue', 'visitors']"
   ]
  },
  {
   "cell_type": "code",
   "execution_count": 17,
   "metadata": {},
   "outputs": [
    {
     "data": {
      "text/html": [
       "<div>\n",
       "<style scoped>\n",
       "    .dataframe tbody tr th:only-of-type {\n",
       "        vertical-align: middle;\n",
       "    }\n",
       "\n",
       "    .dataframe tbody tr th {\n",
       "        vertical-align: top;\n",
       "    }\n",
       "\n",
       "    .dataframe thead th {\n",
       "        text-align: right;\n",
       "    }\n",
       "</style>\n",
       "<table border=\"1\" class=\"dataframe\">\n",
       "  <thead>\n",
       "    <tr style=\"text-align: right;\">\n",
       "      <th></th>\n",
       "      <th>date</th>\n",
       "      <th>group</th>\n",
       "      <th>orders</th>\n",
       "      <th>buyers</th>\n",
       "      <th>revenue</th>\n",
       "      <th>visitors</th>\n",
       "    </tr>\n",
       "  </thead>\n",
       "  <tbody>\n",
       "    <tr>\n",
       "      <td>0</td>\n",
       "      <td>2019-08-01</td>\n",
       "      <td>A</td>\n",
       "      <td>23</td>\n",
       "      <td>19</td>\n",
       "      <td>142779</td>\n",
       "      <td>719</td>\n",
       "    </tr>\n",
       "    <tr>\n",
       "      <td>1</td>\n",
       "      <td>2019-08-01</td>\n",
       "      <td>B</td>\n",
       "      <td>17</td>\n",
       "      <td>17</td>\n",
       "      <td>59758</td>\n",
       "      <td>713</td>\n",
       "    </tr>\n",
       "    <tr>\n",
       "      <td>2</td>\n",
       "      <td>2019-08-02</td>\n",
       "      <td>A</td>\n",
       "      <td>42</td>\n",
       "      <td>36</td>\n",
       "      <td>234381</td>\n",
       "      <td>1338</td>\n",
       "    </tr>\n",
       "    <tr>\n",
       "      <td>3</td>\n",
       "      <td>2019-08-02</td>\n",
       "      <td>B</td>\n",
       "      <td>40</td>\n",
       "      <td>39</td>\n",
       "      <td>221801</td>\n",
       "      <td>1294</td>\n",
       "    </tr>\n",
       "    <tr>\n",
       "      <td>4</td>\n",
       "      <td>2019-08-03</td>\n",
       "      <td>A</td>\n",
       "      <td>66</td>\n",
       "      <td>60</td>\n",
       "      <td>346854</td>\n",
       "      <td>1845</td>\n",
       "    </tr>\n",
       "    <tr>\n",
       "      <td>5</td>\n",
       "      <td>2019-08-03</td>\n",
       "      <td>B</td>\n",
       "      <td>54</td>\n",
       "      <td>53</td>\n",
       "      <td>288850</td>\n",
       "      <td>1803</td>\n",
       "    </tr>\n",
       "    <tr>\n",
       "      <td>6</td>\n",
       "      <td>2019-08-04</td>\n",
       "      <td>A</td>\n",
       "      <td>77</td>\n",
       "      <td>71</td>\n",
       "      <td>388030</td>\n",
       "      <td>2562</td>\n",
       "    </tr>\n",
       "    <tr>\n",
       "      <td>7</td>\n",
       "      <td>2019-08-04</td>\n",
       "      <td>B</td>\n",
       "      <td>68</td>\n",
       "      <td>66</td>\n",
       "      <td>385740</td>\n",
       "      <td>2573</td>\n",
       "    </tr>\n",
       "    <tr>\n",
       "      <td>8</td>\n",
       "      <td>2019-08-05</td>\n",
       "      <td>A</td>\n",
       "      <td>99</td>\n",
       "      <td>92</td>\n",
       "      <td>474413</td>\n",
       "      <td>3318</td>\n",
       "    </tr>\n",
       "    <tr>\n",
       "      <td>9</td>\n",
       "      <td>2019-08-05</td>\n",
       "      <td>B</td>\n",
       "      <td>89</td>\n",
       "      <td>87</td>\n",
       "      <td>475648</td>\n",
       "      <td>3280</td>\n",
       "    </tr>\n",
       "  </tbody>\n",
       "</table>\n",
       "</div>"
      ],
      "text/plain": [
       "        date group  orders  buyers  revenue  visitors\n",
       "0 2019-08-01     A      23      19   142779       719\n",
       "1 2019-08-01     B      17      17    59758       713\n",
       "2 2019-08-02     A      42      36   234381      1338\n",
       "3 2019-08-02     B      40      39   221801      1294\n",
       "4 2019-08-03     A      66      60   346854      1845\n",
       "5 2019-08-03     B      54      53   288850      1803\n",
       "6 2019-08-04     A      77      71   388030      2562\n",
       "7 2019-08-04     B      68      66   385740      2573\n",
       "8 2019-08-05     A      99      92   474413      3318\n",
       "9 2019-08-05     B      89      87   475648      3280"
      ]
     },
     "execution_count": 17,
     "metadata": {},
     "output_type": "execute_result"
    }
   ],
   "source": [
    "cumulativeData = ordersAggregated.merge(visitorsAggregated, left_on=['date', 'group'], right_on=['date', 'group'])\n",
    "cumulativeData.columns = ['date', 'group', 'orders', 'buyers', 'revenue', 'visitors']\n",
    "\n",
    "cumulativeData.head(10)"
   ]
  },
  {
   "cell_type": "markdown",
   "metadata": {},
   "source": [
    "Построим графики кумулятивной выручки по дням и группам A/B-тестирования:"
   ]
  },
  {
   "cell_type": "code",
   "execution_count": 18,
   "metadata": {},
   "outputs": [
    {
     "name": "stderr",
     "output_type": "stream",
     "text": [
      "/opt/conda/lib/python3.7/site-packages/pandas/plotting/_matplotlib/converter.py:103: FutureWarning: Using an implicitly registered datetime converter for a matplotlib plotting method. The converter was registered by pandas on import. Future versions of pandas will require you to explicitly register matplotlib converters.\n",
      "\n",
      "To register the converters:\n",
      "\t>>> from pandas.plotting import register_matplotlib_converters\n",
      "\t>>> register_matplotlib_converters()\n",
      "  warnings.warn(msg, FutureWarning)\n"
     ]
    },
    {
     "data": {
      "image/png": "[encoded data removed]",
      "text/plain": [
       "<Figure size 432x288 with 1 Axes>"
      ]
     },
     "metadata": {
      "needs_background": "light"
     },
     "output_type": "display_data"
    }
   ],
   "source": [
    "# датафрейм с кумулятивным количеством заказов и кумулятивной выручкой по дням в группе А\n",
    "cumulativeRevenueA = cumulativeData[cumulativeData['group']=='A'][['date','revenue', 'orders']]\n",
    "\n",
    "# датафрейм с кумулятивным количеством заказов и кумулятивной выручкой по дням в группе B\n",
    "cumulativeRevenueB = cumulativeData[cumulativeData['group']=='B'][['date','revenue', 'orders']]\n",
    "\n",
    "# Строим график выручки группы А\n",
    "plt.plot(cumulativeRevenueA['date'], cumulativeRevenueA['revenue'], label='A')\n",
    "\n",
    "# Строим график выручки группы B\n",
    "plt.plot(cumulativeRevenueB['date'], cumulativeRevenueB['revenue'], label='B')\n",
    "\n",
    "plt.title('Кумулятивная выручка по дням и группам')\n",
    "plt.xlabel('revenue')\n",
    "plt.ylabel('date')\n",
    "plt.xticks(rotation=90)\n",
    "plt.legend() \n",
    "plt.show()"
   ]
  },
  {
   "cell_type": "markdown",
   "metadata": {},
   "source": [
    "Выручка увеличивается в течении всего теста. Однако график выручки группы В в после 2019-08-17 резко растет. Это может сигнализировать о всплеске числа заказов, либо о появлении очень дорогих заказов в выборке."
   ]
  },
  {
   "cell_type": "markdown",
   "metadata": {},
   "source": [
    "### Построим график кумулятивного среднего чека по группам."
   ]
  },
  {
   "cell_type": "markdown",
   "metadata": {},
   "source": [
    "Построим графики среднего чека по группам — разделим кумулятивную выручку на кумулятивное число заказов:"
   ]
  },
  {
   "cell_type": "code",
   "execution_count": 19,
   "metadata": {},
   "outputs": [
    {
     "data": {
      "image/png": "[encoded data removed]",
      "text/plain": [
       "<Figure size 432x288 with 1 Axes>"
      ]
     },
     "metadata": {
      "needs_background": "light"
     },
     "output_type": "display_data"
    }
   ],
   "source": [
    "plt.plot(cumulativeRevenueA['date'], cumulativeRevenueA['revenue']/cumulativeRevenueA['orders'], label='A')\n",
    "plt.plot(cumulativeRevenueB['date'], cumulativeRevenueB['revenue']/cumulativeRevenueB['orders'], label='B')\n",
    "plt.title('Кумулятивный средний чек по группам')\n",
    "plt.xlabel('revenue')\n",
    "plt.ylabel('date')\n",
    "plt.xticks(rotation=90)\n",
    "plt.legend() \n",
    "plt.show()"
   ]
  },
  {
   "cell_type": "markdown",
   "metadata": {},
   "source": [
    "Средний чек группы А становится равномерным в середине теста, т.е. он установился. Средний чек с середины теста продолжает падать для группы B. Возможно, в группу B в середине теста попали крупные заказы (резкий всплеск на графике). Тогда ей нужно больше данных, чтобы прийти к реальному среднему чеку и установиться на его уровне."
   ]
  },
  {
   "cell_type": "markdown",
   "metadata": {},
   "source": [
    "### Построим график относительного изменения кумулятивного среднего чека группы B к группе A."
   ]
  },
  {
   "cell_type": "markdown",
   "metadata": {},
   "source": [
    "Построим график относительного различия для среднего чека. Добавим горизонтальную ось методом axhline():"
   ]
  },
  {
   "cell_type": "code",
   "execution_count": 20,
   "metadata": {},
   "outputs": [
    {
     "data": {
      "image/png": "[encoded data removed]",
      "text/plain": [
       "<Figure size 432x288 with 1 Axes>"
      ]
     },
     "metadata": {
      "needs_background": "light"
     },
     "output_type": "display_data"
    }
   ],
   "source": [
    "# собираем данные в одном датафрейме\n",
    "mergedCumulativeRevenue = cumulativeRevenueA.merge(cumulativeRevenueB, left_on='date', right_on='date', how='left', suffixes=['A', 'B'])\n",
    "\n",
    "# cтроим отношение средних чеков\n",
    "plt.plot(mergedCumulativeRevenue['date'], (mergedCumulativeRevenue['revenueB']/mergedCumulativeRevenue['ordersB'])/(mergedCumulativeRevenue['revenueA']/mergedCumulativeRevenue['ordersA'])-1)\n",
    "\n",
    "# добавляем ось X\n",
    "plt.axhline(y=0, color='black', linestyle='--') \n",
    "plt.title('Относительное изменение кумулятивного чека группы В к группе А')\n",
    "plt.xlabel('date')\n",
    "plt.ylabel('value')\n",
    "plt.xticks(rotation=90)\n",
    "plt.show()"
   ]
  },
  {
   "cell_type": "markdown",
   "metadata": {},
   "source": [
    "В нескольких точках график различия между сегментами резко «скачет». Где-то уж точно спрятались крупные заказы и выбросы!"
   ]
  },
  {
   "cell_type": "markdown",
   "metadata": {},
   "source": [
    "### Построим график кумулятивной конверсии по группам. "
   ]
  },
  {
   "cell_type": "markdown",
   "metadata": {},
   "source": [
    "Аналогично проанализируем график кумулятивной конверсии. Зададим масштаб осей методом plt.axis(). Передадим ему минимальное и максимальное значения оси x; минимальное и максимальное значения оси y — [\"2019-08-01\", '2019-08-31', 0, 0.015]:"
   ]
  },
  {
   "cell_type": "code",
   "execution_count": 21,
   "metadata": {},
   "outputs": [
    {
     "data": {
      "image/png": "[encoded data removed]",
      "text/plain": [
       "<Figure size 432x288 with 1 Axes>"
      ]
     },
     "metadata": {
      "needs_background": "light"
     },
     "output_type": "display_data"
    }
   ],
   "source": [
    "# считаем кумулятивную конверсию\n",
    "cumulativeData['conversion'] = cumulativeData['orders']/cumulativeData['visitors']\n",
    "\n",
    "# отделяем данные по группе A\n",
    "cumulativeDataA = cumulativeData[cumulativeData['group']=='A']\n",
    "\n",
    "# отделяем данные по группе B\n",
    "cumulativeDataB = cumulativeData[cumulativeData['group']=='B']\n",
    "\n",
    "# строим графики\n",
    "plt.plot(cumulativeDataA['date'], cumulativeDataA['conversion'], label='A')\n",
    "plt.plot(cumulativeDataB['date'], cumulativeDataB['conversion'], label='B')\n",
    "plt.legend()\n",
    "\n",
    "# задаем масштаб осей\n",
    "plt.axis([\"2019-08-01\", '2019-08-31', 0.025, 0.04]) \n",
    "plt.title('Кумулятивная конверсия по группам')\n",
    "plt.xlabel('date')\n",
    "plt.ylabel('value')\n",
    "plt.xticks(rotation=90)\n",
    "plt.show()"
   ]
  },
  {
   "cell_type": "markdown",
   "metadata": {},
   "source": [
    "Конверсия группы В вырвалась вперёд и зафиксировалась, а конверсия группы А просела и также зафиксировалась."
   ]
  },
  {
   "cell_type": "markdown",
   "metadata": {},
   "source": [
    "### Построим график относительного изменения кумулятивной конверсии группы B к группе A."
   ]
  },
  {
   "cell_type": "markdown",
   "metadata": {},
   "source": [
    "Построим график относительного различия кумулятивных конверсий:"
   ]
  },
  {
   "cell_type": "code",
   "execution_count": 22,
   "metadata": {},
   "outputs": [
    {
     "data": {
      "image/png": "[encoded data removed]",
      "text/plain": [
       "<Figure size 432x288 with 1 Axes>"
      ]
     },
     "metadata": {
      "needs_background": "light"
     },
     "output_type": "display_data"
    }
   ],
   "source": [
    "mergedCumulativeConversions = cumulativeDataA[['date','conversion']].merge(cumulativeDataB[['date','conversion']], left_on='date', right_on='date', how='left', suffixes=['A', 'B'])\n",
    "\n",
    "plt.plot(mergedCumulativeConversions['date'], mergedCumulativeConversions['conversionB']/mergedCumulativeConversions['conversionA']-1)\n",
    "\n",
    "plt.axhline(y=0, color='black', linestyle='--')\n",
    "plt.axhline(y=-0.1, color='grey', linestyle='--')\n",
    "plt.axis([\"2019-08-01\", '2019-08-31', -0.4, 0.4]) \n",
    "plt.title('Относительное изменение кумулятивной конверсии группы В к группе А')\n",
    "plt.xlabel('date')\n",
    "plt.ylabel('value')\n",
    "plt.xticks(rotation=90)\n",
    "plt.show()"
   ]
  },
  {
   "cell_type": "markdown",
   "metadata": {},
   "source": [
    "В начале теста группа B проигрывала группе A, затем вырвалась вперёд. Потом её конверсия немного \"скакала\", но теперь более менее зафиксировалась в пределахзначений 0.1-0.2.\n",
    "В целом отношение конверсии ещё не установилось, и сейчас делать какие-либо выводы по тесту нельзя. Впрочем, сперва стоит проанализировать аномалии, возможно, они изменят картину."
   ]
  },
  {
   "cell_type": "markdown",
   "metadata": {},
   "source": [
    "### Построим точечный график количества заказов по пользователям"
   ]
  },
  {
   "cell_type": "code",
   "execution_count": 23,
   "metadata": {},
   "outputs": [
    {
     "data": {
      "text/html": [
       "<div>\n",
       "<style scoped>\n",
       "    .dataframe tbody tr th:only-of-type {\n",
       "        vertical-align: middle;\n",
       "    }\n",
       "\n",
       "    .dataframe tbody tr th {\n",
       "        vertical-align: top;\n",
       "    }\n",
       "\n",
       "    .dataframe thead th {\n",
       "        text-align: right;\n",
       "    }\n",
       "</style>\n",
       "<table border=\"1\" class=\"dataframe\">\n",
       "  <thead>\n",
       "    <tr style=\"text-align: right;\">\n",
       "      <th></th>\n",
       "      <th>vsitorId</th>\n",
       "      <th>orders</th>\n",
       "    </tr>\n",
       "  </thead>\n",
       "  <tbody>\n",
       "    <tr>\n",
       "      <td>908</td>\n",
       "      <td>3967698036</td>\n",
       "      <td>3</td>\n",
       "    </tr>\n",
       "    <tr>\n",
       "      <td>55</td>\n",
       "      <td>249864742</td>\n",
       "      <td>3</td>\n",
       "    </tr>\n",
       "    <tr>\n",
       "      <td>478</td>\n",
       "      <td>2108163459</td>\n",
       "      <td>3</td>\n",
       "    </tr>\n",
       "    <tr>\n",
       "      <td>687</td>\n",
       "      <td>2988190573</td>\n",
       "      <td>3</td>\n",
       "    </tr>\n",
       "    <tr>\n",
       "      <td>890</td>\n",
       "      <td>3908431265</td>\n",
       "      <td>3</td>\n",
       "    </tr>\n",
       "    <tr>\n",
       "      <td>138</td>\n",
       "      <td>611059232</td>\n",
       "      <td>3</td>\n",
       "    </tr>\n",
       "    <tr>\n",
       "      <td>632</td>\n",
       "      <td>2742574263</td>\n",
       "      <td>3</td>\n",
       "    </tr>\n",
       "    <tr>\n",
       "      <td>157</td>\n",
       "      <td>678354126</td>\n",
       "      <td>2</td>\n",
       "    </tr>\n",
       "    <tr>\n",
       "      <td>323</td>\n",
       "      <td>1404560065</td>\n",
       "      <td>2</td>\n",
       "    </tr>\n",
       "    <tr>\n",
       "      <td>452</td>\n",
       "      <td>1985475298</td>\n",
       "      <td>2</td>\n",
       "    </tr>\n",
       "  </tbody>\n",
       "</table>\n",
       "</div>"
      ],
      "text/plain": [
       "       vsitorId  orders\n",
       "908  3967698036       3\n",
       "55    249864742       3\n",
       "478  2108163459       3\n",
       "687  2988190573       3\n",
       "890  3908431265       3\n",
       "138   611059232       3\n",
       "632  2742574263       3\n",
       "157   678354126       2\n",
       "323  1404560065       2\n",
       "452  1985475298       2"
      ]
     },
     "metadata": {},
     "output_type": "display_data"
    }
   ],
   "source": [
    "ordersByUsers = (\n",
    "    orders.groupby('visitorId', as_index=False)\n",
    "    .agg({'transactionId': pd.Series.nunique})\n",
    ")\n",
    "\n",
    "ordersByUsers.columns = ['vsitorId', 'orders']\n",
    "\n",
    "display(ordersByUsers.sort_values(by='orders', ascending=False).head(10)) "
   ]
  },
  {
   "cell_type": "markdown",
   "metadata": {},
   "source": [
    "Аномального количества заказов на пользователя - нет. Пользователи совершают максимум 3 заказа в месяц.\n",
    "\n",
    "Построим гистрограмму распределения количества заказов на одного пользователя."
   ]
  },
  {
   "cell_type": "code",
   "execution_count": 24,
   "metadata": {},
   "outputs": [
    {
     "data": {
      "image/png": "[encoded data removed]",
      "text/plain": [
       "<Figure size 432x288 with 1 Axes>"
      ]
     },
     "metadata": {
      "needs_background": "light"
     },
     "output_type": "display_data"
    }
   ],
   "source": [
    "plt.hist(ordersByUsers['orders']) \n",
    "plt.title('Распределение количетсва заказов на одного пользователя')\n",
    "plt.xlabel('orders')\n",
    "plt.ylabel('value')\n",
    "plt.show()"
   ]
  },
  {
   "cell_type": "markdown",
   "metadata": {},
   "source": [
    "Построим точечную диаграмму числа заказов на одного пользователя:"
   ]
  },
  {
   "cell_type": "code",
   "execution_count": 25,
   "metadata": {},
   "outputs": [
    {
     "data": {
      "image/png": "[encoded data removed]",
      "text/plain": [
       "<Figure size 432x288 with 1 Axes>"
      ]
     },
     "metadata": {
      "needs_background": "light"
     },
     "output_type": "display_data"
    }
   ],
   "source": [
    "x_values = pd.Series(range(0,len(ordersByUsers)))\n",
    "\n",
    "plt.scatter(x_values, ordersByUsers['orders']) \n",
    "plt.title('Точечное распределение заказов на одного пользователя')\n",
    "plt.xlabel('value')\n",
    "plt.ylabel('orders')\n",
    "plt.show()"
   ]
  },
  {
   "cell_type": "markdown",
   "metadata": {},
   "source": [
    "Много пользователей совершивших 1 заказ. Также меньше пользователей с 2 заказами и реже встречаются с 3.\n",
    "\n",
    "Их точная доля не ясна — непонятно, считать их аномалиями или нет."
   ]
  },
  {
   "cell_type": "markdown",
   "metadata": {},
   "source": [
    "### Посчитаем 95-й и 99-й перцентили количества заказов на пользователя. Выберем границу для определения аномальных пользователей."
   ]
  },
  {
   "cell_type": "code",
   "execution_count": 26,
   "metadata": {},
   "outputs": [
    {
     "name": "stdout",
     "output_type": "stream",
     "text": [
      "[1. 2.]\n"
     ]
    }
   ],
   "source": [
    "print(np.percentile(ordersByUsers['orders'], [95, 99])) "
   ]
  },
  {
   "cell_type": "markdown",
   "metadata": {},
   "source": [
    "Не более 5% пользователей оформляли больше чем 1 заказ. 1% пользователей заказывали два раза.\n",
    "Разумно выбрать 1 заказ на одного пользователя за нижнюю границу числа заказов, и отсеять аномальных пользователей по ней."
   ]
  },
  {
   "cell_type": "markdown",
   "metadata": {},
   "source": [
    "### Построим точечный график стоимостей заказов. "
   ]
  },
  {
   "cell_type": "markdown",
   "metadata": {},
   "source": [
    "Изучим гистограмму распределения стоимостей заказов:"
   ]
  },
  {
   "cell_type": "code",
   "execution_count": 27,
   "metadata": {},
   "outputs": [
    {
     "data": {
      "image/png": "[encoded data removed]",
      "text/plain": [
       "<Figure size 432x288 with 1 Axes>"
      ]
     },
     "metadata": {
      "needs_background": "light"
     },
     "output_type": "display_data"
    }
   ],
   "source": [
    "plt.hist(orders['revenue']) \n",
    "plt.title('Распределение стоимости заказов')\n",
    "plt.xlabel('value')\n",
    "plt.ylabel('revenue')\n",
    "plt.show()"
   ]
  },
  {
   "cell_type": "markdown",
   "metadata": {},
   "source": [
    "Неинформативно. Оценим стоимость заказов ещё одним способом:"
   ]
  },
  {
   "cell_type": "code",
   "execution_count": 28,
   "metadata": {},
   "outputs": [
    {
     "data": {
      "image/png": "[encoded data removed]",
      "text/plain": [
       "<Figure size 432x288 with 1 Axes>"
      ]
     },
     "metadata": {
      "needs_background": "light"
     },
     "output_type": "display_data"
    }
   ],
   "source": [
    "x_values = pd.Series(range(0,len(orders['revenue'])))\n",
    "plt.title('Точечное распределение стоимости заказов')\n",
    "plt.xlabel('revenue')\n",
    "plt.ylabel('value')\n",
    "plt.scatter(x_values, orders['revenue']) \n",
    "plt.show()"
   ]
  },
  {
   "cell_type": "markdown",
   "metadata": {},
   "source": [
    "Всё, как предполагали: есть немного дорогих заказов. По графику можно выбрать границу аномальных заказов до 10 000 рублей. Однако принято отсеивать от 1% до 5% наблюдений с крайними значениями."
   ]
  },
  {
   "cell_type": "markdown",
   "metadata": {},
   "source": [
    "### Посчитаем 95-й и 99-й перцентили стоимости заказов. Выберем границу для определения аномальных заказов."
   ]
  },
  {
   "cell_type": "markdown",
   "metadata": {},
   "source": [
    "Для подсчёта перцентилей применяют метод percentile() библиотеки Numpy:"
   ]
  },
  {
   "cell_type": "code",
   "execution_count": 29,
   "metadata": {},
   "outputs": [
    {
     "data": {
      "text/plain": [
       "array([26785., 53904.])"
      ]
     },
     "metadata": {},
     "output_type": "display_data"
    }
   ],
   "source": [
    "display(np.percentile(orders['revenue'], [95, 99]))"
   ]
  },
  {
   "cell_type": "markdown",
   "metadata": {},
   "source": [
    "Не более 5% заказов дороже 26 785 рублей и не более 1% дороже 53 904 рублей. Таким образом за нижнюю границу примем значение в 26 785.\n"
   ]
  },
  {
   "cell_type": "markdown",
   "metadata": {},
   "source": [
    "### Посчитаем статистическую значимость различий в конверсии между группами по «сырым» данным."
   ]
  },
  {
   "cell_type": "markdown",
   "metadata": {},
   "source": [
    "Начнём с подготовки данных:"
   ]
  },
  {
   "cell_type": "code",
   "execution_count": 30,
   "metadata": {},
   "outputs": [
    {
     "data": {
      "text/html": [
       "<div>\n",
       "<style scoped>\n",
       "    .dataframe tbody tr th:only-of-type {\n",
       "        vertical-align: middle;\n",
       "    }\n",
       "\n",
       "    .dataframe tbody tr th {\n",
       "        vertical-align: top;\n",
       "    }\n",
       "\n",
       "    .dataframe thead th {\n",
       "        text-align: right;\n",
       "    }\n",
       "</style>\n",
       "<table border=\"1\" class=\"dataframe\">\n",
       "  <thead>\n",
       "    <tr style=\"text-align: right;\">\n",
       "      <th></th>\n",
       "      <th>date</th>\n",
       "      <th>ordersPerDateA</th>\n",
       "      <th>revenuePerDateA</th>\n",
       "      <th>ordersPerDateB</th>\n",
       "      <th>revenuePerDateB</th>\n",
       "      <th>ordersCummulativeA</th>\n",
       "      <th>revenueCummulativeA</th>\n",
       "      <th>ordersCummulativeB</th>\n",
       "      <th>revenueCummulativeB</th>\n",
       "      <th>visitorsPerDateA</th>\n",
       "      <th>visitorsPerDateB</th>\n",
       "      <th>visitorsCummulativeA</th>\n",
       "      <th>visitorsCummulativeB</th>\n",
       "    </tr>\n",
       "  </thead>\n",
       "  <tbody>\n",
       "    <tr>\n",
       "      <td>0</td>\n",
       "      <td>2019-08-01</td>\n",
       "      <td>23</td>\n",
       "      <td>142779</td>\n",
       "      <td>17</td>\n",
       "      <td>59758</td>\n",
       "      <td>23</td>\n",
       "      <td>142779</td>\n",
       "      <td>17</td>\n",
       "      <td>59758</td>\n",
       "      <td>719</td>\n",
       "      <td>713</td>\n",
       "      <td>719</td>\n",
       "      <td>713</td>\n",
       "    </tr>\n",
       "    <tr>\n",
       "      <td>1</td>\n",
       "      <td>2019-08-02</td>\n",
       "      <td>19</td>\n",
       "      <td>91602</td>\n",
       "      <td>23</td>\n",
       "      <td>162043</td>\n",
       "      <td>42</td>\n",
       "      <td>234381</td>\n",
       "      <td>40</td>\n",
       "      <td>221801</td>\n",
       "      <td>619</td>\n",
       "      <td>581</td>\n",
       "      <td>1338</td>\n",
       "      <td>1294</td>\n",
       "    </tr>\n",
       "    <tr>\n",
       "      <td>2</td>\n",
       "      <td>2019-08-03</td>\n",
       "      <td>24</td>\n",
       "      <td>112473</td>\n",
       "      <td>14</td>\n",
       "      <td>67049</td>\n",
       "      <td>66</td>\n",
       "      <td>346854</td>\n",
       "      <td>54</td>\n",
       "      <td>288850</td>\n",
       "      <td>507</td>\n",
       "      <td>509</td>\n",
       "      <td>1845</td>\n",
       "      <td>1803</td>\n",
       "    </tr>\n",
       "    <tr>\n",
       "      <td>3</td>\n",
       "      <td>2019-08-04</td>\n",
       "      <td>11</td>\n",
       "      <td>41176</td>\n",
       "      <td>14</td>\n",
       "      <td>96890</td>\n",
       "      <td>77</td>\n",
       "      <td>388030</td>\n",
       "      <td>68</td>\n",
       "      <td>385740</td>\n",
       "      <td>717</td>\n",
       "      <td>770</td>\n",
       "      <td>2562</td>\n",
       "      <td>2573</td>\n",
       "    </tr>\n",
       "    <tr>\n",
       "      <td>4</td>\n",
       "      <td>2019-08-05</td>\n",
       "      <td>22</td>\n",
       "      <td>86383</td>\n",
       "      <td>21</td>\n",
       "      <td>89908</td>\n",
       "      <td>99</td>\n",
       "      <td>474413</td>\n",
       "      <td>89</td>\n",
       "      <td>475648</td>\n",
       "      <td>756</td>\n",
       "      <td>707</td>\n",
       "      <td>3318</td>\n",
       "      <td>3280</td>\n",
       "    </tr>\n",
       "  </tbody>\n",
       "</table>\n",
       "</div>"
      ],
      "text/plain": [
       "        date  ordersPerDateA  revenuePerDateA  ordersPerDateB  \\\n",
       "0 2019-08-01              23           142779              17   \n",
       "1 2019-08-02              19            91602              23   \n",
       "2 2019-08-03              24           112473              14   \n",
       "3 2019-08-04              11            41176              14   \n",
       "4 2019-08-05              22            86383              21   \n",
       "\n",
       "   revenuePerDateB  ordersCummulativeA  revenueCummulativeA  \\\n",
       "0            59758                  23               142779   \n",
       "1           162043                  42               234381   \n",
       "2            67049                  66               346854   \n",
       "3            96890                  77               388030   \n",
       "4            89908                  99               474413   \n",
       "\n",
       "   ordersCummulativeB  revenueCummulativeB  visitorsPerDateA  \\\n",
       "0                  17                59758               719   \n",
       "1                  40               221801               619   \n",
       "2                  54               288850               507   \n",
       "3                  68               385740               717   \n",
       "4                  89               475648               756   \n",
       "\n",
       "   visitorsPerDateB  visitorsCummulativeA  visitorsCummulativeB  \n",
       "0               713                   719                   713  \n",
       "1               581                  1338                  1294  \n",
       "2               509                  1845                  1803  \n",
       "3               770                  2562                  2573  \n",
       "4               707                  3318                  3280  "
      ]
     },
     "metadata": {},
     "output_type": "display_data"
    }
   ],
   "source": [
    "visitorsADaily = visitors[visitors['group'] == 'A'][['date', 'visitors']]\n",
    "visitorsADaily.columns = ['date', 'visitorsPerDateA']\n",
    "\n",
    "visitorsACummulative = visitorsADaily.apply(\n",
    "    lambda x: visitorsADaily[visitorsADaily['date'] <= x['date']].agg(\n",
    "        {'date': 'max', 'visitorsPerDateA': 'sum'}\n",
    "    ),\n",
    "    axis=1,\n",
    ")\n",
    "visitorsACummulative.columns = ['date', 'visitorsCummulativeA']\n",
    "\n",
    "visitorsBDaily = visitors[visitors['group'] == 'B'][['date', 'visitors']]\n",
    "visitorsBDaily.columns = ['date', 'visitorsPerDateB']\n",
    "\n",
    "visitorsBCummulative = visitorsBDaily.apply(\n",
    "    lambda x: visitorsBDaily[visitorsBDaily['date'] <= x['date']].agg(\n",
    "        {'date': 'max', 'visitorsPerDateB': 'sum'}\n",
    "    ),\n",
    "    axis=1,\n",
    ")\n",
    "visitorsBCummulative.columns = ['date', 'visitorsCummulativeB']\n",
    "\n",
    "ordersADaily = (\n",
    "    orders[orders['group'] == 'A'][['date', 'transactionId', 'visitorId', 'revenue']]\n",
    "    .groupby('date', as_index=False)\n",
    "    .agg({'transactionId': pd.Series.nunique, 'revenue': 'sum'})\n",
    ")\n",
    "ordersADaily.columns = ['date', 'ordersPerDateA', 'revenuePerDateA']\n",
    "\n",
    "ordersACummulative = ordersADaily.apply(\n",
    "    lambda x: ordersADaily[ordersADaily['date'] <= x['date']].agg(\n",
    "        {'date': 'max', 'ordersPerDateA': 'sum', 'revenuePerDateA': 'sum'}\n",
    "    ),\n",
    "    axis=1,\n",
    ").sort_values(by=['date'])\n",
    "ordersACummulative.columns = [\n",
    "    'date',\n",
    "    'ordersCummulativeA',\n",
    "    'revenueCummulativeA',\n",
    "]\n",
    "\n",
    "ordersBDaily = (\n",
    "    orders[orders['group'] == 'B'][['date', 'transactionId', 'visitorId', 'revenue']]\n",
    "    .groupby('date', as_index=False)\n",
    "    .agg({'transactionId': pd.Series.nunique, 'revenue': 'sum'})\n",
    ")\n",
    "ordersBDaily.columns = ['date', 'ordersPerDateB', 'revenuePerDateB']\n",
    "\n",
    "ordersBCummulative = ordersBDaily.apply(\n",
    "    lambda x: ordersBDaily[ordersBDaily['date'] <= x['date']].agg(\n",
    "        {'date': 'max', 'ordersPerDateB': 'sum', 'revenuePerDateB': 'sum'}\n",
    "    ),\n",
    "    axis=1,\n",
    ").sort_values(by=['date'])\n",
    "ordersBCummulative.columns = [\n",
    "    'date',\n",
    "    'ordersCummulativeB',\n",
    "    'revenueCummulativeB',\n",
    "]\n",
    "\n",
    "data_new = (\n",
    "    ordersADaily.merge(\n",
    "        ordersBDaily, left_on='date', right_on='date', how='left'\n",
    "    )\n",
    "    .merge(ordersACummulative, left_on='date', right_on='date', how='left')\n",
    "    .merge(ordersBCummulative, left_on='date', right_on='date', how='left')\n",
    "    .merge(visitorsADaily, left_on='date', right_on='date', how='left')\n",
    "    .merge(visitorsBDaily, left_on='date', right_on='date', how='left')\n",
    "    .merge(visitorsACummulative, left_on='date', right_on='date', how='left')\n",
    "    .merge(visitorsBCummulative, left_on='date', right_on='date', how='left')\n",
    ")\n",
    "\n",
    "display(data_new.head(5)) "
   ]
  },
  {
   "cell_type": "markdown",
   "metadata": {},
   "source": [
    "Напомним себе названия столбцов данных:\n",
    "- <b>date</b> — дата;\n",
    "- <b>ordersPerDateA</b> — количество заказов в выбранную дату в группе A;\n",
    "- <b>revenuePerDateA</b> — суммарная выручка в выбранную дату в группе A;\n",
    "- <b>ordersPerDateB</b> — количество заказов в выбранную дату в группе B;\n",
    "- <b>revenuePerDateB</b> — суммарная выручка в выбранную дату в группе B;\n",
    "- <b>ordersCummulativeA</b> — суммарное число заказов до выбранной даты включительно в группе A;\n",
    "- <b>revenueCummulativeA</b> — суммарная выручка до выбранной даты включительно в группе A;\n",
    "- <b>ordersCummulativeB</b> — суммарное количество заказов до выбранной даты включительно в группе B;\n",
    "- <b>revenueCummulativeB</b> — суммарная выручка до выбранной даты включительно в группе B;\n",
    "- <b>visitorsPerDateA</b> — количество пользователей в выбранную дату в группе A;\n",
    "- <b>visitorsPerDateB</b> — количество пользователей в выбранную дату в группе B;\n",
    "- <b>visitorsCummulativeA</b> — количество пользователей до выбранной даты включительно в группе A;\n",
    "- <b>visitorsCummulativeB</b> — количество пользователей до выбранной даты включительно в группе B."
   ]
  },
  {
   "cell_type": "markdown",
   "metadata": {},
   "source": [
    "#### Посчитаем статистическую значимость различия в конверсии между группами."
   ]
  },
  {
   "cell_type": "markdown",
   "metadata": {},
   "source": [
    "Создадим переменные ordersByUsersA и ordersByUsersB со столбцами ['visitorId', 'orders']. В них для пользователей, которые заказывали хотя бы 1 раз, укажем число совершённых заказов."
   ]
  },
  {
   "cell_type": "code",
   "execution_count": 31,
   "metadata": {},
   "outputs": [],
   "source": [
    "ordersByUsersA = (\n",
    "    orders[orders['group'] == 'A']\n",
    "    .groupby('visitorId', as_index=False)\n",
    "    .agg({'transactionId': pd.Series.nunique})\n",
    ")\n",
    "ordersByUsersA.columns = ['userId', 'orders']\n",
    "\n",
    "ordersByUsersB = (\n",
    "    orders[orders['group'] == 'B']\n",
    "    .groupby('visitorId', as_index=False)\n",
    "    .agg({'transactionId': pd.Series.nunique})\n",
    ")\n",
    "ordersByUsersB.columns = ['userId', 'orders'] "
   ]
  },
  {
   "cell_type": "markdown",
   "metadata": {},
   "source": [
    "Объявим переменные sampleA и sampleB, в которых пользователям из разных групп будет соответствовать количество заказов. Тем, кто ничего не заказал, будут соответствовать нули. Это нужно, чтобы подготовить выборки к проверке критерием Манна-Уитни."
   ]
  },
  {
   "cell_type": "markdown",
   "metadata": {},
   "source": [
    "Переменная sampleA должна состоять из двух частей:\n",
    "\n",
    "1) Список с количеством заказов для каждого из пользователей: ordersByUsersA['orders'].\n",
    "\n",
    "2) Нули для пользователей, которые ничего не заказывали. Их количество равно разнице между суммой посетителей и количеством записей о заказах: data['visitorsPerDateA'].sum() - len(ordersByUsersA['orders']). Создадим объект pd.Series нужной длины. "
   ]
  },
  {
   "cell_type": "code",
   "execution_count": 32,
   "metadata": {},
   "outputs": [],
   "source": [
    "sampleA = pd.concat([ordersByUsersA['orders'],pd.Series(0, index=np.arange(data_new['visitorsPerDateA'].sum() - len(ordersByUsersA['orders'])), name='orders')],axis=0)\n",
    "\n",
    "sampleB = pd.concat([ordersByUsersB['orders'],pd.Series(0, index=np.arange(data_new['visitorsPerDateB'].sum() - len(ordersByUsersB['orders'])), name='orders')],axis=0)"
   ]
  },
  {
   "cell_type": "markdown",
   "metadata": {},
   "source": [
    "Список индексов создали функцией np.arange(). Она работает так же, как функция range(), только создаёт массив индексов в формате np.array, который требуется в pd.Series.\n",
    "\n",
    "В Pandas последовательности объединяют функцией pd.concat() (от англ. concatenate, «сцеплять»). Сперва ей передают то, что объединяют — в нашем случае список из первой и второй части.\n",
    "\n",
    "Дальше передадим аргумент, сообщающий, что объекты Series нужно объединить по строкам (то есть записать подряд): pd.concat([...], axis=0). То же делаем для sampleB и получаем:"
   ]
  },
  {
   "cell_type": "markdown",
   "metadata": {},
   "source": [
    "Применим критерий и отформатируем p-value, округлив его до трёх знаков после запятой.\n",
    "\n",
    "Напомним, что в sampleA сохранили выборку, где каждый элемент — число заказов определённого пользователя, в том числе ноль. Значит, число элементов sampleA — это количество пользователей, сумма всех элементов — количество заказов. Чтобы получить конверсию в группе, поделим сумму заказов на число пользователей — найдём среднее в выборке sampleA методом mean(). Аналогично найдём конверсию группы B: SampleB.mean().\n",
    "\n",
    "Выведем относительный прирост конверсии группы B: конверсия группы B / конверсия группы A - 1. Округлим до трёх знаков после запятой."
   ]
  },
  {
   "cell_type": "markdown",
   "metadata": {},
   "source": [
    "Сформулируем нулевую и альтернативные гипотезы:\n",
    "\n",
    "h0 - по \"сырым\" данным статистически значимых различий в конверсии между группами нет;\n",
    "\n",
    "h1 - по \"сырым\" данным конверсия пользователей в группах различается."
   ]
  },
  {
   "cell_type": "code",
   "execution_count": 33,
   "metadata": {},
   "outputs": [
    {
     "name": "stdout",
     "output_type": "stream",
     "text": [
      "Значение p-value: 0.006\n",
      "Относительное изменение конверсии группы B к группе А: 0.160\n"
     ]
    }
   ],
   "source": [
    "print(\"Значение p-value:\", \"{0:.3f}\".format(stats.mannwhitneyu(sampleA, sampleB)[1]))\n",
    "\n",
    "print(\"Относительное изменение конверсии группы B к группе А:\", \"{0:.3f}\".format(sampleB.mean() / sampleA.mean() - 1))"
   ]
  },
  {
   "cell_type": "markdown",
   "metadata": {},
   "source": [
    "Первое число — <b>p-value = 0.006</b> меньше 0.05. Значит, нулевую гипотезу о том, что статистически значимых различий в конверсии между группами нет, отвергаем. Относительный выигрыш группы B равен 16% — второе число в выводе.\n",
    "\n",
    "<b>Вывод:</b> По «сырым» данным различия в конверсии групп A и B есть.\n",
    "\n"
   ]
  },
  {
   "cell_type": "markdown",
   "metadata": {},
   "source": [
    "### Посчитаем статистическую значимость различий в среднем чеке заказа между группами по «сырым» данным."
   ]
  },
  {
   "cell_type": "markdown",
   "metadata": {},
   "source": [
    "Чтобы рассчитать статистическую значимость различий в среднем чеке между сегментами, передадим критерию mannwhitneyu() данные о выручке с заказов.\n",
    "\n",
    "А ещё найдём относительные различия в среднем чеке между группами:"
   ]
  },
  {
   "cell_type": "markdown",
   "metadata": {},
   "source": [
    "Сформулируем нулевую и альтернативные гипотезы:\n",
    "\n",
    "h0 - по \"сырым\" данным статистически значимых различий в среднем чеке между группами нет;\n",
    "\n",
    "h1 - по \"сырым\" данным средний чек пользователей в группах различается."
   ]
  },
  {
   "cell_type": "code",
   "execution_count": 34,
   "metadata": {},
   "outputs": [
    {
     "name": "stdout",
     "output_type": "stream",
     "text": [
      "Значение p-value: 0.415\n",
      "Относительное изменение среднего чека группы B к группе А: 0.287\n"
     ]
    }
   ],
   "source": [
    "print(\"Значение p-value:\", '{0:.3f}'.format(stats.mannwhitneyu(orders[orders['group']=='A']['revenue'], orders[orders['group']=='B']['revenue'])[1]))\n",
    "print(\"Относительное изменение среднего чека группы B к группе А:\", '{0:.3f}'.format(orders[orders['group']=='B']['revenue'].mean()/orders[orders['group']=='A']['revenue'].mean()-1))"
   ]
  },
  {
   "cell_type": "markdown",
   "metadata": {},
   "source": [
    "P-value значительно больше 0.05. Значит, причин отвергать нулевую гипотезу и считать, что в среднем чеке есть различия, нет. Впрочем, средний чек группы B значительно выше среднего чека группы A."
   ]
  },
  {
   "cell_type": "markdown",
   "metadata": {},
   "source": [
    "### Посчитаем статистическую значимость различий в конверсии между группами по «очищенным» данным."
   ]
  },
  {
   "cell_type": "markdown",
   "metadata": {},
   "source": [
    "Напомним, что найденный 95-й перцентиль среднего чека равен 26 785 рублям. А 95-й перцентиль количества заказов на одного пользователя равен 1 заказу на пользователя."
   ]
  },
  {
   "cell_type": "markdown",
   "metadata": {},
   "source": [
    "Примем за аномальных пользователей тех, кто совершил от 2 заказов или совершил заказ дороже 26 785 рублей. Так мы уберём 5% пользователей с наибольшим числом заказов и 5% пользователей с дорогими заказами. Сделаем срезы пользователей с числом заказов больше 1 — usersWithManyOrders и пользователей, совершивших заказы дороже 26 785 — usersWithExpensiveOrders. Объединим их в таблице abnormalUsers.\n",
    "\n",
    "Узнаем, сколько всего аномальных пользователей методом shape()."
   ]
  },
  {
   "cell_type": "code",
   "execution_count": 35,
   "metadata": {},
   "outputs": [
    {
     "name": "stdout",
     "output_type": "stream",
     "text": [
      "568     113298937\n",
      "1099    148427295\n",
      "928     204675465\n",
      "33      249864742\n",
      "684     358944393\n",
      "dtype: int64\n",
      "(86,)\n"
     ]
    }
   ],
   "source": [
    "usersWithManyOrders = pd.concat(\n",
    "    [\n",
    "        ordersByUsersA[ordersByUsersA['orders'] > 1]['userId'],\n",
    "        ordersByUsersB[ordersByUsersB['orders'] > 1]['userId'],\n",
    "    ],\n",
    "    axis=0,\n",
    ")\n",
    "usersWithExpensiveOrders = orders[orders['revenue'] > 26785]['visitorId']\n",
    "abnormalUsers = (\n",
    "    pd.concat([usersWithManyOrders, usersWithExpensiveOrders], axis=0)\n",
    "    .drop_duplicates()\n",
    "    .sort_values()\n",
    ")\n",
    "print(abnormalUsers.head(5))\n",
    "print(abnormalUsers.shape) "
   ]
  },
  {
   "cell_type": "markdown",
   "metadata": {},
   "source": [
    "Получаем 86 аномальных пользователей."
   ]
  },
  {
   "cell_type": "markdown",
   "metadata": {},
   "source": [
    "Узнаем, как их действия повлияли на результаты теста. Посчитаем статистическую значимость различий в конверсии между группами теста по очищенным данным. Сначала подготовим выборки количества заказов по пользователям по группам теста:"
   ]
  },
  {
   "cell_type": "code",
   "execution_count": 36,
   "metadata": {},
   "outputs": [],
   "source": [
    "sampleAFiltered = pd.concat(\n",
    "    [\n",
    "        ordersByUsersA[\n",
    "            np.logical_not(ordersByUsersA['userId'].isin(abnormalUsers))\n",
    "        ]['orders'],\n",
    "        pd.Series(\n",
    "            0,\n",
    "            index=np.arange(\n",
    "                data_new['visitorsPerDateA'].sum() - len(ordersByUsersA['orders'])\n",
    "            ),\n",
    "            name='orders',\n",
    "        ),\n",
    "    ],\n",
    "    axis=0,\n",
    ")\n",
    "\n",
    "sampleBFiltered = pd.concat(\n",
    "    [\n",
    "        ordersByUsersB[\n",
    "            np.logical_not(ordersByUsersB['userId'].isin(abnormalUsers))\n",
    "        ]['orders'],\n",
    "        pd.Series(\n",
    "            0,\n",
    "            index=np.arange(\n",
    "                data_new['visitorsPerDateB'].sum() - len(ordersByUsersB['orders'])\n",
    "            ),\n",
    "            name='orders',\n",
    "        ),\n",
    "    ],\n",
    "    axis=0,\n",
    ") "
   ]
  },
  {
   "cell_type": "markdown",
   "metadata": {},
   "source": [
    "Применим статистический критерий Манна-Уитни к полученным выборкам:"
   ]
  },
  {
   "cell_type": "markdown",
   "metadata": {},
   "source": [
    "Сформулируем нулевую и альтернативные гипотезы:\n",
    "\n",
    "h0 - по \"очищенным\" данным статистически значимых различий в конверсии между группами нет;\n",
    "\n",
    "h1 - по \"очищенным\" данным конверсия пользователей в группах различается."
   ]
  },
  {
   "cell_type": "code",
   "execution_count": 37,
   "metadata": {},
   "outputs": [
    {
     "name": "stdout",
     "output_type": "stream",
     "text": [
      "Значение p-value: 0.008\n",
      "Относительное изменение конверсии группы B к группе А: 0.174\n"
     ]
    }
   ],
   "source": [
    "print(\"Значение p-value:\", '{0:.3f}'.format(stats.mannwhitneyu(sampleAFiltered, sampleBFiltered)[1]))\n",
    "print(\"Относительное изменение конверсии группы B к группе А:\", '{0:.3f}'.format(sampleBFiltered.mean()/sampleAFiltered.mean()-1)) "
   ]
  },
  {
   "cell_type": "markdown",
   "metadata": {},
   "source": [
    "Результаты по конверсии практически не изменились."
   ]
  },
  {
   "cell_type": "markdown",
   "metadata": {},
   "source": [
    "### Посчитаем статистическую значимость различий в среднем чеке заказа между группами по «очищенным» данным. "
   ]
  },
  {
   "cell_type": "markdown",
   "metadata": {},
   "source": [
    "Произошло ли что-нибудь с результатами по среднему чеку?"
   ]
  },
  {
   "cell_type": "markdown",
   "metadata": {},
   "source": [
    "Сформулируем нулевую и альтернативные гипотезы:\n",
    "\n",
    "h0 - по \"очищенным\" данным статистически значимых различий в среднем чеке между группами нет;\n",
    "\n",
    "h1 - по \"очищенным\" данным средний чек пользователей в группах различается."
   ]
  },
  {
   "cell_type": "code",
   "execution_count": 38,
   "metadata": {},
   "outputs": [
    {
     "name": "stdout",
     "output_type": "stream",
     "text": [
      "Значение p-value 0.364\n",
      "Относительное изменение среднего чека группы B к группе А: -0.034\n"
     ]
    }
   ],
   "source": [
    "print(\"Значение p-value\",\n",
    "    '{0:.3f}'.format(\n",
    "        stats.mannwhitneyu(\n",
    "            orders[\n",
    "                np.logical_and(\n",
    "                    orders['group'] == 'A',\n",
    "                    np.logical_not(orders['visitorId'].isin(abnormalUsers)),\n",
    "                )\n",
    "            ]['revenue'],\n",
    "            orders[\n",
    "                np.logical_and(\n",
    "                    orders['group'] == 'B',\n",
    "                    np.logical_not(orders['visitorId'].isin(abnormalUsers)),\n",
    "                )\n",
    "            ]['revenue'],\n",
    "        )[1]\n",
    "    )\n",
    ")\n",
    "\n",
    "print(\"Относительное изменение среднего чека группы B к группе А:\",\n",
    "    \"{0:.3f}\".format(\n",
    "        orders[\n",
    "            np.logical_and(\n",
    "                orders['group'] == 'B',\n",
    "                np.logical_not(orders['visitorId'].isin(abnormalUsers)),\n",
    "            )\n",
    "        ]['revenue'].mean()\n",
    "        / orders[\n",
    "            np.logical_and(\n",
    "                orders['group'] == 'A',\n",
    "                np.logical_not(orders['visitorId'].isin(abnormalUsers)),\n",
    "            )\n",
    "        ]['revenue'].mean()\n",
    "        - 1\n",
    "    )\n",
    ") "
   ]
  },
  {
   "cell_type": "markdown",
   "metadata": {},
   "source": [
    "P-value уменьшился, и разница между сегментами сократилась на 3%. "
   ]
  },
  {
   "cell_type": "markdown",
   "metadata": {},
   "source": [
    "### Решение по результатам теста"
   ]
  },
  {
   "cell_type": "markdown",
   "metadata": {},
   "source": [
    "Какие выводы по тесту можем сделать?"
   ]
  },
  {
   "cell_type": "markdown",
   "metadata": {},
   "source": [
    "<b>Имеющиеся факты:</b>\n",
    "    \n",
    "- Есть статистически значимое различие по конверсии между группами по «сырым» и по данным после фильтрации аномалий;\n",
    "- Есть статистически значимое различия по среднему чеку между группами по «сырым» данным, после фильтрации аномалий видим снижение между сегментами;\n",
    "- График различия конверсии между группами сообщает, что результаты группы B лучше группы A и есть значительной тенденции к улучшению;\n",
    "- График различия среднего чека говорит о том, что результаты группы B лучше почти на 30%;\n",
    "\n",
    "Исходя из обнаруженных фактов, тест следует остановить и признать успешным. \n",
    "\n",
    "Продолжать смысла нет, потому как вероятность, что при имеющихся данных сегмент А на самом деле лучше сегмента В — нулевая."
   ]
  }
 ],
 "metadata": {
  "ExecuteTimeLog": [
   {
    "duration": 499,
    "start_time": "2022-03-12T14:31:58.873Z"
   },
   {
    "duration": 17,
    "start_time": "2022-03-12T14:32:42.693Z"
   },
   {
    "duration": 22,
    "start_time": "2022-03-12T14:32:51.031Z"
   },
   {
    "duration": 21,
    "start_time": "2022-03-12T14:33:00.022Z"
   },
   {
    "duration": 15,
    "start_time": "2022-03-12T14:33:14.085Z"
   },
   {
    "duration": 16,
    "start_time": "2022-03-12T14:33:23.925Z"
   },
   {
    "duration": 9,
    "start_time": "2022-03-12T14:34:38.598Z"
   },
   {
    "duration": 9,
    "start_time": "2022-03-12T14:36:10.780Z"
   },
   {
    "duration": 11,
    "start_time": "2022-03-12T14:40:09.563Z"
   },
   {
    "duration": 902,
    "start_time": "2022-03-12T14:48:17.668Z"
   },
   {
    "duration": 25,
    "start_time": "2022-03-12T14:48:18.572Z"
   },
   {
    "duration": 11,
    "start_time": "2022-03-12T14:48:18.599Z"
   },
   {
    "duration": 9,
    "start_time": "2022-03-12T14:48:18.611Z"
   },
   {
    "duration": 56,
    "start_time": "2022-03-12T14:49:34.541Z"
   },
   {
    "duration": 32,
    "start_time": "2022-03-12T14:49:48.645Z"
   },
   {
    "duration": 14,
    "start_time": "2022-03-12T14:50:24.049Z"
   },
   {
    "duration": 29,
    "start_time": "2022-03-12T14:50:45.301Z"
   },
   {
    "duration": 15,
    "start_time": "2022-03-12T14:50:51.445Z"
   },
   {
    "duration": 39,
    "start_time": "2022-03-12T14:51:08.657Z"
   },
   {
    "duration": 751,
    "start_time": "2022-03-12T14:51:23.379Z"
   },
   {
    "duration": 16,
    "start_time": "2022-03-12T14:51:40.193Z"
   },
   {
    "duration": 596,
    "start_time": "2022-03-12T14:51:51.741Z"
   },
   {
    "duration": 578,
    "start_time": "2022-03-12T14:52:07.364Z"
   },
   {
    "duration": 15,
    "start_time": "2022-03-12T14:52:39.346Z"
   },
   {
    "duration": 14,
    "start_time": "2022-03-12T14:52:53.138Z"
   },
   {
    "duration": 14,
    "start_time": "2022-03-12T14:54:17.959Z"
   },
   {
    "duration": 16,
    "start_time": "2022-03-12T14:54:24.975Z"
   },
   {
    "duration": 21,
    "start_time": "2022-03-12T14:54:49.772Z"
   },
   {
    "duration": 893,
    "start_time": "2022-03-12T14:54:57.560Z"
   },
   {
    "duration": 21,
    "start_time": "2022-03-12T14:54:58.455Z"
   },
   {
    "duration": 11,
    "start_time": "2022-03-12T14:54:58.478Z"
   },
   {
    "duration": 10,
    "start_time": "2022-03-12T14:54:58.491Z"
   },
   {
    "duration": 40,
    "start_time": "2022-03-12T14:54:58.502Z"
   },
   {
    "duration": 16,
    "start_time": "2022-03-12T14:54:58.544Z"
   },
   {
    "duration": 6,
    "start_time": "2022-03-12T14:59:06.930Z"
   },
   {
    "duration": 12,
    "start_time": "2022-03-12T14:59:20.968Z"
   },
   {
    "duration": 3657,
    "start_time": "2022-03-12T15:00:43.080Z"
   },
   {
    "duration": 3787,
    "start_time": "2022-03-12T15:02:20.518Z"
   },
   {
    "duration": 3136,
    "start_time": "2022-03-12T15:03:23.464Z"
   },
   {
    "duration": 189,
    "start_time": "2022-03-12T15:04:01.326Z"
   },
   {
    "duration": 146,
    "start_time": "2022-03-12T15:05:13.967Z"
   },
   {
    "duration": 10,
    "start_time": "2022-03-12T15:07:03.809Z"
   },
   {
    "duration": 13,
    "start_time": "2022-03-12T15:07:12.970Z"
   },
   {
    "duration": 909,
    "start_time": "2022-03-12T15:10:05.186Z"
   },
   {
    "duration": 19,
    "start_time": "2022-03-12T15:10:06.097Z"
   },
   {
    "duration": 18,
    "start_time": "2022-03-12T15:10:06.118Z"
   },
   {
    "duration": 10,
    "start_time": "2022-03-12T15:10:06.138Z"
   },
   {
    "duration": 61,
    "start_time": "2022-03-12T15:10:06.150Z"
   },
   {
    "duration": 15,
    "start_time": "2022-03-12T15:10:06.212Z"
   },
   {
    "duration": 6,
    "start_time": "2022-03-12T15:10:06.229Z"
   },
   {
    "duration": 181,
    "start_time": "2022-03-12T15:10:06.237Z"
   },
   {
    "duration": 152,
    "start_time": "2022-03-12T15:10:06.420Z"
   },
   {
    "duration": 12,
    "start_time": "2022-03-12T15:10:06.574Z"
   },
   {
    "duration": 203,
    "start_time": "2022-03-12T15:11:41.039Z"
   },
   {
    "duration": 992,
    "start_time": "2022-03-12T15:11:57.666Z"
   },
   {
    "duration": 20,
    "start_time": "2022-03-12T15:11:58.661Z"
   },
   {
    "duration": 12,
    "start_time": "2022-03-12T15:11:58.683Z"
   },
   {
    "duration": 9,
    "start_time": "2022-03-12T15:11:58.697Z"
   },
   {
    "duration": 86,
    "start_time": "2022-03-12T15:11:58.708Z"
   },
   {
    "duration": 17,
    "start_time": "2022-03-12T15:11:58.795Z"
   },
   {
    "duration": 8,
    "start_time": "2022-03-12T15:11:58.814Z"
   },
   {
    "duration": 173,
    "start_time": "2022-03-12T15:11:58.825Z"
   },
   {
    "duration": 145,
    "start_time": "2022-03-12T15:11:58.999Z"
   },
   {
    "duration": 12,
    "start_time": "2022-03-12T15:11:59.146Z"
   },
   {
    "duration": 216,
    "start_time": "2022-03-12T15:11:59.160Z"
   },
   {
    "duration": 11,
    "start_time": "2022-03-12T15:21:24.972Z"
   },
   {
    "duration": 5,
    "start_time": "2022-03-12T15:22:26.148Z"
   },
   {
    "duration": 901,
    "start_time": "2022-03-12T15:22:42.484Z"
   },
   {
    "duration": 18,
    "start_time": "2022-03-12T15:22:43.387Z"
   },
   {
    "duration": 12,
    "start_time": "2022-03-12T15:22:43.407Z"
   },
   {
    "duration": 18,
    "start_time": "2022-03-12T15:22:43.421Z"
   },
   {
    "duration": 57,
    "start_time": "2022-03-12T15:22:43.441Z"
   },
   {
    "duration": 205,
    "start_time": "2022-03-12T15:22:43.499Z"
   },
   {
    "duration": -7565,
    "start_time": "2022-03-12T15:22:51.271Z"
   },
   {
    "duration": -7569,
    "start_time": "2022-03-12T15:22:51.276Z"
   },
   {
    "duration": -7576,
    "start_time": "2022-03-12T15:22:51.284Z"
   },
   {
    "duration": -7579,
    "start_time": "2022-03-12T15:22:51.288Z"
   },
   {
    "duration": -7581,
    "start_time": "2022-03-12T15:22:51.291Z"
   },
   {
    "duration": -7584,
    "start_time": "2022-03-12T15:22:51.295Z"
   },
   {
    "duration": -7586,
    "start_time": "2022-03-12T15:22:51.298Z"
   },
   {
    "duration": 979,
    "start_time": "2022-03-12T15:23:09.997Z"
   },
   {
    "duration": 19,
    "start_time": "2022-03-12T15:23:10.978Z"
   },
   {
    "duration": 12,
    "start_time": "2022-03-12T15:23:11.000Z"
   },
   {
    "duration": 20,
    "start_time": "2022-03-12T15:23:11.014Z"
   },
   {
    "duration": 51,
    "start_time": "2022-03-12T15:23:11.036Z"
   },
   {
    "duration": 10,
    "start_time": "2022-03-12T15:23:11.090Z"
   },
   {
    "duration": 5,
    "start_time": "2022-03-12T15:23:11.102Z"
   },
   {
    "duration": 22,
    "start_time": "2022-03-12T15:23:11.110Z"
   },
   {
    "duration": 6,
    "start_time": "2022-03-12T15:23:11.134Z"
   },
   {
    "duration": 181,
    "start_time": "2022-03-12T15:23:11.141Z"
   },
   {
    "duration": 145,
    "start_time": "2022-03-12T15:23:11.324Z"
   },
   {
    "duration": 12,
    "start_time": "2022-03-12T15:23:11.471Z"
   },
   {
    "duration": 202,
    "start_time": "2022-03-12T15:23:11.484Z"
   },
   {
    "duration": 10,
    "start_time": "2022-03-12T15:23:37.567Z"
   },
   {
    "duration": 202,
    "start_time": "2022-03-12T15:23:43.500Z"
   },
   {
    "duration": 9,
    "start_time": "2022-03-12T15:23:50.098Z"
   },
   {
    "duration": 1027,
    "start_time": "2022-03-12T15:24:01.467Z"
   },
   {
    "duration": 19,
    "start_time": "2022-03-12T15:24:02.495Z"
   },
   {
    "duration": 23,
    "start_time": "2022-03-12T15:24:02.516Z"
   },
   {
    "duration": 9,
    "start_time": "2022-03-12T15:24:02.541Z"
   },
   {
    "duration": 41,
    "start_time": "2022-03-12T15:24:02.552Z"
   },
   {
    "duration": 9,
    "start_time": "2022-03-12T15:24:02.594Z"
   },
   {
    "duration": 4,
    "start_time": "2022-03-12T15:24:02.605Z"
   },
   {
    "duration": 18,
    "start_time": "2022-03-12T15:24:02.611Z"
   },
   {
    "duration": 6,
    "start_time": "2022-03-12T15:24:02.632Z"
   },
   {
    "duration": 190,
    "start_time": "2022-03-12T15:24:02.640Z"
   },
   {
    "duration": 158,
    "start_time": "2022-03-12T15:24:02.833Z"
   },
   {
    "duration": 13,
    "start_time": "2022-03-12T15:24:02.992Z"
   },
   {
    "duration": 226,
    "start_time": "2022-03-12T15:24:03.006Z"
   },
   {
    "duration": 6,
    "start_time": "2022-03-12T15:27:08.784Z"
   },
   {
    "duration": 7,
    "start_time": "2022-03-12T15:27:20.486Z"
   },
   {
    "duration": 214,
    "start_time": "2022-03-12T15:29:39.896Z"
   },
   {
    "duration": 14,
    "start_time": "2022-03-12T15:29:44.739Z"
   },
   {
    "duration": 12,
    "start_time": "2022-03-12T15:33:52.036Z"
   },
   {
    "duration": 16,
    "start_time": "2022-03-12T15:34:10.715Z"
   },
   {
    "duration": 184,
    "start_time": "2022-03-12T15:36:23.193Z"
   },
   {
    "duration": 183,
    "start_time": "2022-03-12T15:39:32.925Z"
   },
   {
    "duration": 196,
    "start_time": "2022-03-12T15:40:06.217Z"
   },
   {
    "duration": 267,
    "start_time": "2022-03-12T15:51:22.754Z"
   },
   {
    "duration": 307,
    "start_time": "2022-03-12T15:56:12.103Z"
   },
   {
    "duration": 5,
    "start_time": "2022-03-12T15:57:54.058Z"
   },
   {
    "duration": 64,
    "start_time": "2022-03-12T15:58:11.398Z"
   },
   {
    "duration": 5,
    "start_time": "2022-03-12T15:58:19.399Z"
   },
   {
    "duration": 5,
    "start_time": "2022-03-12T15:58:59.332Z"
   },
   {
    "duration": 179,
    "start_time": "2022-03-12T15:59:46.712Z"
   },
   {
    "duration": 1146,
    "start_time": "2022-03-12T16:00:08.167Z"
   },
   {
    "duration": 27,
    "start_time": "2022-03-12T16:00:09.315Z"
   },
   {
    "duration": 13,
    "start_time": "2022-03-12T16:00:09.345Z"
   },
   {
    "duration": 11,
    "start_time": "2022-03-12T16:00:09.360Z"
   },
   {
    "duration": 38,
    "start_time": "2022-03-12T16:00:09.373Z"
   },
   {
    "duration": 23,
    "start_time": "2022-03-12T16:00:09.412Z"
   },
   {
    "duration": 9,
    "start_time": "2022-03-12T16:00:09.437Z"
   },
   {
    "duration": 14,
    "start_time": "2022-03-12T16:00:09.450Z"
   },
   {
    "duration": 5,
    "start_time": "2022-03-12T16:00:09.466Z"
   },
   {
    "duration": 6,
    "start_time": "2022-03-12T16:00:09.473Z"
   },
   {
    "duration": 17,
    "start_time": "2022-03-12T16:00:09.481Z"
   },
   {
    "duration": 6,
    "start_time": "2022-03-12T16:00:09.533Z"
   },
   {
    "duration": 21,
    "start_time": "2022-03-12T16:00:09.541Z"
   },
   {
    "duration": 7,
    "start_time": "2022-03-12T16:00:09.564Z"
   },
   {
    "duration": 279,
    "start_time": "2022-03-12T16:00:09.573Z"
   },
   {
    "duration": 172,
    "start_time": "2022-03-12T16:00:09.853Z"
   },
   {
    "duration": 19,
    "start_time": "2022-03-12T16:00:10.026Z"
   },
   {
    "duration": 318,
    "start_time": "2022-03-12T16:00:10.047Z"
   },
   {
    "duration": 273,
    "start_time": "2022-03-12T16:00:10.367Z"
   },
   {
    "duration": 314,
    "start_time": "2022-03-12T16:00:10.641Z"
   },
   {
    "duration": 225,
    "start_time": "2022-03-12T16:00:10.958Z"
   },
   {
    "duration": 187,
    "start_time": "2022-03-12T16:00:21.478Z"
   },
   {
    "duration": 192,
    "start_time": "2022-03-12T16:01:49.648Z"
   },
   {
    "duration": 196,
    "start_time": "2022-03-12T16:02:12.397Z"
   },
   {
    "duration": 194,
    "start_time": "2022-03-12T16:03:49.782Z"
   },
   {
    "duration": 344,
    "start_time": "2022-03-12T16:05:21.301Z"
   },
   {
    "duration": 263,
    "start_time": "2022-03-12T16:05:36.272Z"
   },
   {
    "duration": 311,
    "start_time": "2022-03-12T16:06:00.339Z"
   },
   {
    "duration": 14,
    "start_time": "2022-03-12T16:11:04.383Z"
   },
   {
    "duration": 153,
    "start_time": "2022-03-12T16:12:25.173Z"
   },
   {
    "duration": 157,
    "start_time": "2022-03-12T16:13:27.273Z"
   },
   {
    "duration": 259,
    "start_time": "2022-03-12T16:14:03.880Z"
   },
   {
    "duration": 284,
    "start_time": "2022-03-12T16:15:47.357Z"
   },
   {
    "duration": 201,
    "start_time": "2022-03-12T16:20:51.889Z"
   },
   {
    "duration": 131,
    "start_time": "2022-03-12T16:21:34.650Z"
   },
   {
    "duration": 257,
    "start_time": "2022-03-12T16:22:06.946Z"
   },
   {
    "duration": 109,
    "start_time": "2022-03-12T16:23:26.528Z"
   },
   {
    "duration": 92,
    "start_time": "2022-03-12T16:23:34.742Z"
   },
   {
    "duration": 173,
    "start_time": "2022-03-12T16:24:57.851Z"
   },
   {
    "duration": 1045,
    "start_time": "2022-03-12T16:25:42.239Z"
   },
   {
    "duration": 19,
    "start_time": "2022-03-12T16:25:43.286Z"
   },
   {
    "duration": 10,
    "start_time": "2022-03-12T16:25:43.307Z"
   },
   {
    "duration": 23,
    "start_time": "2022-03-12T16:25:43.319Z"
   },
   {
    "duration": 33,
    "start_time": "2022-03-12T16:25:43.344Z"
   },
   {
    "duration": 9,
    "start_time": "2022-03-12T16:25:43.379Z"
   },
   {
    "duration": 7,
    "start_time": "2022-03-12T16:25:43.389Z"
   },
   {
    "duration": 12,
    "start_time": "2022-03-12T16:25:43.398Z"
   },
   {
    "duration": 21,
    "start_time": "2022-03-12T16:25:43.413Z"
   },
   {
    "duration": 6,
    "start_time": "2022-03-12T16:25:43.436Z"
   },
   {
    "duration": 17,
    "start_time": "2022-03-12T16:25:43.444Z"
   },
   {
    "duration": 6,
    "start_time": "2022-03-12T16:25:43.463Z"
   },
   {
    "duration": 11,
    "start_time": "2022-03-12T16:25:43.471Z"
   },
   {
    "duration": 6,
    "start_time": "2022-03-12T16:25:43.483Z"
   },
   {
    "duration": 202,
    "start_time": "2022-03-12T16:25:43.491Z"
   },
   {
    "duration": 161,
    "start_time": "2022-03-12T16:25:43.695Z"
   },
   {
    "duration": 13,
    "start_time": "2022-03-12T16:25:43.858Z"
   },
   {
    "duration": 203,
    "start_time": "2022-03-12T16:25:43.873Z"
   },
   {
    "duration": 200,
    "start_time": "2022-03-12T16:25:44.077Z"
   },
   {
    "duration": 256,
    "start_time": "2022-03-12T16:25:44.278Z"
   },
   {
    "duration": 195,
    "start_time": "2022-03-12T16:25:44.536Z"
   },
   {
    "duration": 322,
    "start_time": "2022-03-12T16:25:44.733Z"
   },
   {
    "duration": 112,
    "start_time": "2022-03-12T16:25:45.056Z"
   },
   {
    "duration": 169,
    "start_time": "2022-03-12T16:25:45.170Z"
   },
   {
    "duration": 276,
    "start_time": "2022-03-12T16:25:45.341Z"
   },
   {
    "duration": 5,
    "start_time": "2022-03-12T16:31:50.024Z"
   },
   {
    "duration": 263,
    "start_time": "2022-03-12T16:35:55.488Z"
   },
   {
    "duration": 3234,
    "start_time": "2022-03-12T16:36:23.909Z"
   },
   {
    "duration": 239,
    "start_time": "2022-03-12T16:36:29.890Z"
   },
   {
    "duration": 5,
    "start_time": "2022-03-12T16:39:47.239Z"
   },
   {
    "duration": 114,
    "start_time": "2022-03-12T16:45:03.356Z"
   },
   {
    "duration": 3394,
    "start_time": "2022-03-12T16:46:23.682Z"
   },
   {
    "duration": 1047,
    "start_time": "2022-03-12T16:47:51.936Z"
   },
   {
    "duration": 18,
    "start_time": "2022-03-12T16:47:52.984Z"
   },
   {
    "duration": 11,
    "start_time": "2022-03-12T16:47:53.004Z"
   },
   {
    "duration": 9,
    "start_time": "2022-03-12T16:47:53.017Z"
   },
   {
    "duration": 42,
    "start_time": "2022-03-12T16:47:53.028Z"
   },
   {
    "duration": 9,
    "start_time": "2022-03-12T16:47:53.072Z"
   },
   {
    "duration": 7,
    "start_time": "2022-03-12T16:47:53.082Z"
   },
   {
    "duration": 14,
    "start_time": "2022-03-12T16:47:53.092Z"
   },
   {
    "duration": 4,
    "start_time": "2022-03-12T16:47:53.107Z"
   },
   {
    "duration": 6,
    "start_time": "2022-03-12T16:47:53.112Z"
   },
   {
    "duration": 16,
    "start_time": "2022-03-12T16:47:53.119Z"
   },
   {
    "duration": 6,
    "start_time": "2022-03-12T16:47:53.137Z"
   },
   {
    "duration": 11,
    "start_time": "2022-03-12T16:47:53.145Z"
   },
   {
    "duration": 5,
    "start_time": "2022-03-12T16:47:53.157Z"
   },
   {
    "duration": 173,
    "start_time": "2022-03-12T16:47:53.163Z"
   },
   {
    "duration": 154,
    "start_time": "2022-03-12T16:47:53.338Z"
   },
   {
    "duration": 43,
    "start_time": "2022-03-12T16:47:53.494Z"
   },
   {
    "duration": 271,
    "start_time": "2022-03-12T16:47:53.539Z"
   },
   {
    "duration": 193,
    "start_time": "2022-03-12T16:47:53.832Z"
   },
   {
    "duration": 308,
    "start_time": "2022-03-12T16:47:54.027Z"
   },
   {
    "duration": 202,
    "start_time": "2022-03-12T16:47:54.337Z"
   },
   {
    "duration": 320,
    "start_time": "2022-03-12T16:47:54.541Z"
   },
   {
    "duration": 106,
    "start_time": "2022-03-12T16:47:54.864Z"
   },
   {
    "duration": 175,
    "start_time": "2022-03-12T16:47:54.971Z"
   },
   {
    "duration": 299,
    "start_time": "2022-03-12T16:47:55.148Z"
   },
   {
    "duration": 4,
    "start_time": "2022-03-12T16:47:55.448Z"
   },
   {
    "duration": 169,
    "start_time": "2022-03-12T16:47:55.453Z"
   },
   {
    "duration": 324,
    "start_time": "2022-03-12T16:47:55.623Z"
   },
   {
    "duration": 4,
    "start_time": "2022-03-12T16:47:55.949Z"
   },
   {
    "duration": 108,
    "start_time": "2022-03-12T16:47:55.955Z"
   },
   {
    "duration": 2940,
    "start_time": "2022-03-12T16:47:56.065Z"
   },
   {
    "duration": 3370,
    "start_time": "2022-03-12T16:48:49.474Z"
   },
   {
    "duration": 247,
    "start_time": "2022-03-12T17:02:27.322Z"
   },
   {
    "duration": 267,
    "start_time": "2022-03-12T17:02:41.467Z"
   },
   {
    "duration": 96,
    "start_time": "2022-03-12T17:06:47.447Z"
   },
   {
    "duration": 3092,
    "start_time": "2022-03-12T17:07:38.731Z"
   },
   {
    "duration": 2971,
    "start_time": "2022-03-12T17:08:05.877Z"
   },
   {
    "duration": 1006,
    "start_time": "2022-03-12T17:08:36.156Z"
   },
   {
    "duration": 20,
    "start_time": "2022-03-12T17:08:37.164Z"
   },
   {
    "duration": 12,
    "start_time": "2022-03-12T17:08:37.186Z"
   },
   {
    "duration": 10,
    "start_time": "2022-03-12T17:08:37.200Z"
   },
   {
    "duration": 42,
    "start_time": "2022-03-12T17:08:37.211Z"
   },
   {
    "duration": 9,
    "start_time": "2022-03-12T17:08:37.255Z"
   },
   {
    "duration": 7,
    "start_time": "2022-03-12T17:08:37.266Z"
   },
   {
    "duration": 14,
    "start_time": "2022-03-12T17:08:37.274Z"
   },
   {
    "duration": 4,
    "start_time": "2022-03-12T17:08:37.291Z"
   },
   {
    "duration": 5,
    "start_time": "2022-03-12T17:08:37.297Z"
   },
   {
    "duration": 37,
    "start_time": "2022-03-12T17:08:37.304Z"
   },
   {
    "duration": 9,
    "start_time": "2022-03-12T17:08:37.343Z"
   },
   {
    "duration": 12,
    "start_time": "2022-03-12T17:08:37.354Z"
   },
   {
    "duration": 6,
    "start_time": "2022-03-12T17:08:37.368Z"
   },
   {
    "duration": 199,
    "start_time": "2022-03-12T17:08:37.375Z"
   },
   {
    "duration": 160,
    "start_time": "2022-03-12T17:08:37.575Z"
   },
   {
    "duration": 13,
    "start_time": "2022-03-12T17:08:37.736Z"
   },
   {
    "duration": 210,
    "start_time": "2022-03-12T17:08:37.751Z"
   },
   {
    "duration": 204,
    "start_time": "2022-03-12T17:08:37.963Z"
   },
   {
    "duration": 288,
    "start_time": "2022-03-12T17:08:38.169Z"
   },
   {
    "duration": 202,
    "start_time": "2022-03-12T17:08:38.459Z"
   },
   {
    "duration": 315,
    "start_time": "2022-03-12T17:08:38.663Z"
   },
   {
    "duration": 108,
    "start_time": "2022-03-12T17:08:38.979Z"
   },
   {
    "duration": 179,
    "start_time": "2022-03-12T17:08:39.089Z"
   },
   {
    "duration": 278,
    "start_time": "2022-03-12T17:08:39.270Z"
   },
   {
    "duration": 4,
    "start_time": "2022-03-12T17:08:39.550Z"
   },
   {
    "duration": 177,
    "start_time": "2022-03-12T17:08:39.557Z"
   },
   {
    "duration": 342,
    "start_time": "2022-03-12T17:08:39.736Z"
   },
   {
    "duration": 4,
    "start_time": "2022-03-12T17:08:40.080Z"
   },
   {
    "duration": 266,
    "start_time": "2022-03-12T17:08:40.086Z"
   },
   {
    "duration": 116,
    "start_time": "2022-03-12T17:08:40.353Z"
   },
   {
    "duration": 3312,
    "start_time": "2022-03-12T17:08:40.471Z"
   },
   {
    "duration": 262,
    "start_time": "2022-03-12T17:09:19.855Z"
   },
   {
    "duration": 7,
    "start_time": "2022-03-12T17:09:43.330Z"
   },
   {
    "duration": 12,
    "start_time": "2022-03-12T17:13:15.782Z"
   },
   {
    "duration": 12,
    "start_time": "2022-03-12T17:17:56.871Z"
   },
   {
    "duration": 3010,
    "start_time": "2022-03-12T17:22:39.333Z"
   },
   {
    "duration": 9,
    "start_time": "2022-03-12T17:22:54.803Z"
   },
   {
    "duration": 12,
    "start_time": "2022-03-12T17:24:33.765Z"
   },
   {
    "duration": 8,
    "start_time": "2022-03-12T17:24:56.835Z"
   },
   {
    "duration": 14,
    "start_time": "2022-03-12T17:27:35.230Z"
   },
   {
    "duration": 61,
    "start_time": "2022-03-12T17:35:29.185Z"
   },
   {
    "duration": 1149,
    "start_time": "2022-03-13T15:34:48.645Z"
   },
   {
    "duration": 42,
    "start_time": "2022-03-13T15:34:49.796Z"
   },
   {
    "duration": 22,
    "start_time": "2022-03-13T15:34:49.840Z"
   },
   {
    "duration": 10,
    "start_time": "2022-03-13T15:34:49.864Z"
   },
   {
    "duration": 116,
    "start_time": "2022-03-13T15:34:49.875Z"
   },
   {
    "duration": 10,
    "start_time": "2022-03-13T15:34:49.993Z"
   },
   {
    "duration": 9,
    "start_time": "2022-03-13T15:34:50.004Z"
   },
   {
    "duration": 22,
    "start_time": "2022-03-13T15:34:50.015Z"
   },
   {
    "duration": 5,
    "start_time": "2022-03-13T15:34:50.039Z"
   },
   {
    "duration": 8,
    "start_time": "2022-03-13T15:34:50.046Z"
   },
   {
    "duration": 26,
    "start_time": "2022-03-13T15:34:50.056Z"
   },
   {
    "duration": 7,
    "start_time": "2022-03-13T15:34:50.084Z"
   },
   {
    "duration": 31,
    "start_time": "2022-03-13T15:34:50.092Z"
   },
   {
    "duration": 5,
    "start_time": "2022-03-13T15:34:50.125Z"
   },
   {
    "duration": 196,
    "start_time": "2022-03-13T15:34:50.132Z"
   },
   {
    "duration": 157,
    "start_time": "2022-03-13T15:34:50.329Z"
   },
   {
    "duration": 31,
    "start_time": "2022-03-13T15:34:50.488Z"
   },
   {
    "duration": 228,
    "start_time": "2022-03-13T15:34:50.521Z"
   },
   {
    "duration": 211,
    "start_time": "2022-03-13T15:34:50.751Z"
   },
   {
    "duration": 288,
    "start_time": "2022-03-13T15:34:50.963Z"
   },
   {
    "duration": 205,
    "start_time": "2022-03-13T15:34:51.253Z"
   },
   {
    "duration": 315,
    "start_time": "2022-03-13T15:34:51.459Z"
   },
   {
    "duration": 129,
    "start_time": "2022-03-13T15:34:51.776Z"
   },
   {
    "duration": 197,
    "start_time": "2022-03-13T15:34:51.911Z"
   },
   {
    "duration": 305,
    "start_time": "2022-03-13T15:34:52.110Z"
   },
   {
    "duration": 4,
    "start_time": "2022-03-13T15:34:52.417Z"
   },
   {
    "duration": 203,
    "start_time": "2022-03-13T15:34:52.425Z"
   },
   {
    "duration": 374,
    "start_time": "2022-03-13T15:34:52.630Z"
   },
   {
    "duration": 6,
    "start_time": "2022-03-13T15:34:53.006Z"
   },
   {
    "duration": 294,
    "start_time": "2022-03-13T15:34:53.014Z"
   },
   {
    "duration": 160,
    "start_time": "2022-03-13T15:34:53.310Z"
   },
   {
    "duration": 6,
    "start_time": "2022-03-13T15:34:53.471Z"
   },
   {
    "duration": 13,
    "start_time": "2022-03-13T15:34:53.479Z"
   },
   {
    "duration": 22,
    "start_time": "2022-03-13T15:34:53.494Z"
   },
   {
    "duration": 18,
    "start_time": "2022-03-13T15:34:53.518Z"
   },
   {
    "duration": 10,
    "start_time": "2022-03-13T15:34:53.538Z"
   },
   {
    "duration": 12,
    "start_time": "2022-03-13T15:34:53.549Z"
   },
   {
    "duration": 13,
    "start_time": "2022-03-13T15:34:53.563Z"
   },
   {
    "duration": 1548,
    "start_time": "2022-03-14T16:34:41.880Z"
   },
   {
    "duration": 26,
    "start_time": "2022-03-14T16:34:43.431Z"
   },
   {
    "duration": 24,
    "start_time": "2022-03-14T16:34:43.459Z"
   },
   {
    "duration": 19,
    "start_time": "2022-03-14T16:34:43.486Z"
   },
   {
    "duration": 52,
    "start_time": "2022-03-14T16:34:43.507Z"
   },
   {
    "duration": 14,
    "start_time": "2022-03-14T16:34:43.561Z"
   },
   {
    "duration": 15,
    "start_time": "2022-03-14T16:34:43.583Z"
   },
   {
    "duration": 29,
    "start_time": "2022-03-14T16:34:43.602Z"
   },
   {
    "duration": 5,
    "start_time": "2022-03-14T16:34:43.634Z"
   },
   {
    "duration": 13,
    "start_time": "2022-03-14T16:34:43.641Z"
   },
   {
    "duration": 45,
    "start_time": "2022-03-14T16:34:43.657Z"
   },
   {
    "duration": 8,
    "start_time": "2022-03-14T16:34:43.704Z"
   },
   {
    "duration": 21,
    "start_time": "2022-03-14T16:34:43.714Z"
   },
   {
    "duration": 7,
    "start_time": "2022-03-14T16:34:43.738Z"
   },
   {
    "duration": 326,
    "start_time": "2022-03-14T16:34:43.747Z"
   },
   {
    "duration": 274,
    "start_time": "2022-03-14T16:34:44.075Z"
   },
   {
    "duration": 31,
    "start_time": "2022-03-14T16:34:44.352Z"
   },
   {
    "duration": 328,
    "start_time": "2022-03-14T16:34:44.386Z"
   },
   {
    "duration": 315,
    "start_time": "2022-03-14T16:34:44.717Z"
   },
   {
    "duration": 453,
    "start_time": "2022-03-14T16:34:45.035Z"
   },
   {
    "duration": 329,
    "start_time": "2022-03-14T16:34:45.490Z"
   },
   {
    "duration": 467,
    "start_time": "2022-03-14T16:34:45.822Z"
   },
   {
    "duration": 228,
    "start_time": "2022-03-14T16:34:46.295Z"
   },
   {
    "duration": 299,
    "start_time": "2022-03-14T16:34:46.526Z"
   },
   {
    "duration": 394,
    "start_time": "2022-03-14T16:34:46.827Z"
   },
   {
    "duration": 7,
    "start_time": "2022-03-14T16:34:47.224Z"
   },
   {
    "duration": 373,
    "start_time": "2022-03-14T16:34:47.234Z"
   },
   {
    "duration": 487,
    "start_time": "2022-03-14T16:34:47.610Z"
   },
   {
    "duration": 6,
    "start_time": "2022-03-14T16:34:48.100Z"
   },
   {
    "duration": 527,
    "start_time": "2022-03-14T16:34:48.109Z"
   },
   {
    "duration": 250,
    "start_time": "2022-03-14T16:34:48.639Z"
   },
   {
    "duration": 8,
    "start_time": "2022-03-14T16:34:48.892Z"
   },
   {
    "duration": 16,
    "start_time": "2022-03-14T16:34:48.903Z"
   },
   {
    "duration": 15,
    "start_time": "2022-03-14T16:34:48.922Z"
   },
   {
    "duration": 55,
    "start_time": "2022-03-14T16:34:48.940Z"
   },
   {
    "duration": 16,
    "start_time": "2022-03-14T16:34:48.998Z"
   },
   {
    "duration": 10,
    "start_time": "2022-03-14T16:34:49.017Z"
   },
   {
    "duration": 54,
    "start_time": "2022-03-14T16:34:49.029Z"
   },
   {
    "duration": 1394,
    "start_time": "2022-03-14T16:35:51.621Z"
   },
   {
    "duration": 27,
    "start_time": "2022-03-14T16:35:53.018Z"
   },
   {
    "duration": 35,
    "start_time": "2022-03-14T16:35:53.049Z"
   },
   {
    "duration": 16,
    "start_time": "2022-03-14T16:35:53.088Z"
   },
   {
    "duration": 56,
    "start_time": "2022-03-14T16:35:53.107Z"
   },
   {
    "duration": 25,
    "start_time": "2022-03-14T16:35:53.166Z"
   },
   {
    "duration": 9,
    "start_time": "2022-03-14T16:35:53.194Z"
   },
   {
    "duration": 19,
    "start_time": "2022-03-14T16:35:53.207Z"
   },
   {
    "duration": 6,
    "start_time": "2022-03-14T16:35:53.229Z"
   },
   {
    "duration": 51,
    "start_time": "2022-03-14T16:35:53.237Z"
   },
   {
    "duration": 23,
    "start_time": "2022-03-14T16:35:53.290Z"
   },
   {
    "duration": 12,
    "start_time": "2022-03-14T16:35:53.315Z"
   },
   {
    "duration": 18,
    "start_time": "2022-03-14T16:35:53.330Z"
   },
   {
    "duration": 8,
    "start_time": "2022-03-14T16:35:53.351Z"
   },
   {
    "duration": 302,
    "start_time": "2022-03-14T16:35:53.382Z"
   },
   {
    "duration": 277,
    "start_time": "2022-03-14T16:35:53.686Z"
   },
   {
    "duration": 32,
    "start_time": "2022-03-14T16:35:53.966Z"
   },
   {
    "duration": 334,
    "start_time": "2022-03-14T16:35:54.000Z"
   },
   {
    "duration": 325,
    "start_time": "2022-03-14T16:35:54.337Z"
   },
   {
    "duration": 415,
    "start_time": "2022-03-14T16:35:54.664Z"
   },
   {
    "duration": 323,
    "start_time": "2022-03-14T16:35:55.083Z"
   },
   {
    "duration": 424,
    "start_time": "2022-03-14T16:35:55.408Z"
   },
   {
    "duration": 251,
    "start_time": "2022-03-14T16:35:55.837Z"
   },
   {
    "duration": 294,
    "start_time": "2022-03-14T16:35:56.091Z"
   },
   {
    "duration": 413,
    "start_time": "2022-03-14T16:35:56.387Z"
   },
   {
    "duration": 5,
    "start_time": "2022-03-14T16:35:56.802Z"
   },
   {
    "duration": 309,
    "start_time": "2022-03-14T16:35:56.810Z"
   },
   {
    "duration": 437,
    "start_time": "2022-03-14T16:35:57.122Z"
   },
   {
    "duration": 7,
    "start_time": "2022-03-14T16:35:57.561Z"
   },
   {
    "duration": 482,
    "start_time": "2022-03-14T16:35:57.570Z"
   },
   {
    "duration": 215,
    "start_time": "2022-03-14T16:35:58.055Z"
   },
   {
    "duration": 11,
    "start_time": "2022-03-14T16:35:58.273Z"
   },
   {
    "duration": 16,
    "start_time": "2022-03-14T16:35:58.287Z"
   },
   {
    "duration": 14,
    "start_time": "2022-03-14T16:35:58.306Z"
   },
   {
    "duration": 13,
    "start_time": "2022-03-14T16:35:58.322Z"
   },
   {
    "duration": 49,
    "start_time": "2022-03-14T16:35:58.337Z"
   },
   {
    "duration": 13,
    "start_time": "2022-03-14T16:35:58.388Z"
   },
   {
    "duration": 18,
    "start_time": "2022-03-14T16:35:58.403Z"
   },
   {
    "duration": 336,
    "start_time": "2022-03-14T16:40:14.170Z"
   },
   {
    "duration": 324,
    "start_time": "2022-03-14T16:41:09.029Z"
   },
   {
    "duration": 471,
    "start_time": "2022-03-14T16:42:14.143Z"
   },
   {
    "duration": 327,
    "start_time": "2022-03-14T16:43:31.548Z"
   },
   {
    "duration": 442,
    "start_time": "2022-03-14T16:44:20.602Z"
   },
   {
    "duration": 466,
    "start_time": "2022-03-14T16:44:37.438Z"
   },
   {
    "duration": 405,
    "start_time": "2022-03-14T16:45:12.019Z"
   },
   {
    "duration": 1922,
    "start_time": "2022-03-14T16:45:33.219Z"
   },
   {
    "duration": 26,
    "start_time": "2022-03-14T16:45:35.144Z"
   },
   {
    "duration": 16,
    "start_time": "2022-03-14T16:45:35.181Z"
   },
   {
    "duration": 15,
    "start_time": "2022-03-14T16:45:35.200Z"
   },
   {
    "duration": 48,
    "start_time": "2022-03-14T16:45:35.217Z"
   },
   {
    "duration": 26,
    "start_time": "2022-03-14T16:45:35.267Z"
   },
   {
    "duration": 11,
    "start_time": "2022-03-14T16:45:35.295Z"
   },
   {
    "duration": 21,
    "start_time": "2022-03-14T16:45:35.309Z"
   },
   {
    "duration": 7,
    "start_time": "2022-03-14T16:45:35.333Z"
   },
   {
    "duration": 6,
    "start_time": "2022-03-14T16:45:35.382Z"
   },
   {
    "duration": 24,
    "start_time": "2022-03-14T16:45:35.391Z"
   },
   {
    "duration": 15,
    "start_time": "2022-03-14T16:45:35.417Z"
   },
   {
    "duration": 49,
    "start_time": "2022-03-14T16:45:35.435Z"
   },
   {
    "duration": 9,
    "start_time": "2022-03-14T16:45:35.487Z"
   },
   {
    "duration": 319,
    "start_time": "2022-03-14T16:45:35.499Z"
   },
   {
    "duration": 284,
    "start_time": "2022-03-14T16:45:35.820Z"
   },
   {
    "duration": 19,
    "start_time": "2022-03-14T16:45:36.107Z"
   },
   {
    "duration": 362,
    "start_time": "2022-03-14T16:45:36.129Z"
   },
   {
    "duration": 340,
    "start_time": "2022-03-14T16:45:36.493Z"
   },
   {
    "duration": 444,
    "start_time": "2022-03-14T16:45:36.835Z"
   },
   {
    "duration": 445,
    "start_time": "2022-03-14T16:45:37.283Z"
   },
   {
    "duration": 468,
    "start_time": "2022-03-14T16:45:37.731Z"
   },
   {
    "duration": 199,
    "start_time": "2022-03-14T16:45:38.204Z"
   },
   {
    "duration": 307,
    "start_time": "2022-03-14T16:45:38.406Z"
   },
   {
    "duration": 383,
    "start_time": "2022-03-14T16:45:38.716Z"
   },
   {
    "duration": 5,
    "start_time": "2022-03-14T16:45:39.102Z"
   },
   {
    "duration": 292,
    "start_time": "2022-03-14T16:45:39.109Z"
   },
   {
    "duration": 478,
    "start_time": "2022-03-14T16:45:39.403Z"
   },
   {
    "duration": 7,
    "start_time": "2022-03-14T16:45:39.883Z"
   },
   {
    "duration": 479,
    "start_time": "2022-03-14T16:45:39.892Z"
   },
   {
    "duration": 250,
    "start_time": "2022-03-14T16:45:40.373Z"
   },
   {
    "duration": 8,
    "start_time": "2022-03-14T16:45:40.625Z"
   },
   {
    "duration": 15,
    "start_time": "2022-03-14T16:45:40.635Z"
   },
   {
    "duration": 33,
    "start_time": "2022-03-14T16:45:40.652Z"
   },
   {
    "duration": 13,
    "start_time": "2022-03-14T16:45:40.688Z"
   },
   {
    "duration": 11,
    "start_time": "2022-03-14T16:45:40.704Z"
   },
   {
    "duration": 13,
    "start_time": "2022-03-14T16:45:40.718Z"
   },
   {
    "duration": 58,
    "start_time": "2022-03-14T16:45:40.733Z"
   },
   {
    "duration": 310,
    "start_time": "2022-03-14T16:47:14.703Z"
   },
   {
    "duration": 551,
    "start_time": "2022-03-14T16:48:16.046Z"
   },
   {
    "duration": 291,
    "start_time": "2022-03-14T16:49:34.595Z"
   },
   {
    "duration": 532,
    "start_time": "2022-03-14T16:50:40.250Z"
   },
   {
    "duration": 1823,
    "start_time": "2022-03-14T16:51:01.363Z"
   },
   {
    "duration": 27,
    "start_time": "2022-03-14T16:51:03.189Z"
   },
   {
    "duration": 16,
    "start_time": "2022-03-14T16:51:03.219Z"
   },
   {
    "duration": 44,
    "start_time": "2022-03-14T16:51:03.238Z"
   },
   {
    "duration": 50,
    "start_time": "2022-03-14T16:51:03.285Z"
   },
   {
    "duration": 14,
    "start_time": "2022-03-14T16:51:03.338Z"
   },
   {
    "duration": 30,
    "start_time": "2022-03-14T16:51:03.355Z"
   },
   {
    "duration": 22,
    "start_time": "2022-03-14T16:51:03.389Z"
   },
   {
    "duration": 7,
    "start_time": "2022-03-14T16:51:03.415Z"
   },
   {
    "duration": 10,
    "start_time": "2022-03-14T16:51:03.425Z"
   },
   {
    "duration": 63,
    "start_time": "2022-03-14T16:51:03.438Z"
   },
   {
    "duration": 12,
    "start_time": "2022-03-14T16:51:03.504Z"
   },
   {
    "duration": 28,
    "start_time": "2022-03-14T16:51:03.519Z"
   },
   {
    "duration": 7,
    "start_time": "2022-03-14T16:51:03.549Z"
   },
   {
    "duration": 334,
    "start_time": "2022-03-14T16:51:03.583Z"
   },
   {
    "duration": 422,
    "start_time": "2022-03-14T16:51:03.920Z"
   },
   {
    "duration": 37,
    "start_time": "2022-03-14T16:51:04.345Z"
   },
   {
    "duration": 382,
    "start_time": "2022-03-14T16:51:04.385Z"
   },
   {
    "duration": 362,
    "start_time": "2022-03-14T16:51:04.769Z"
   },
   {
    "duration": 463,
    "start_time": "2022-03-14T16:51:05.133Z"
   },
   {
    "duration": 356,
    "start_time": "2022-03-14T16:51:05.599Z"
   },
   {
    "duration": 471,
    "start_time": "2022-03-14T16:51:05.958Z"
   },
   {
    "duration": 251,
    "start_time": "2022-03-14T16:51:06.434Z"
   },
   {
    "duration": 323,
    "start_time": "2022-03-14T16:51:06.688Z"
   },
   {
    "duration": 405,
    "start_time": "2022-03-14T16:51:07.014Z"
   },
   {
    "duration": 6,
    "start_time": "2022-03-14T16:51:07.422Z"
   },
   {
    "duration": 319,
    "start_time": "2022-03-14T16:51:07.430Z"
   },
   {
    "duration": 622,
    "start_time": "2022-03-14T16:51:07.751Z"
   },
   {
    "duration": 11,
    "start_time": "2022-03-14T16:51:08.376Z"
   },
   {
    "duration": 494,
    "start_time": "2022-03-14T16:51:08.390Z"
   },
   {
    "duration": 366,
    "start_time": "2022-03-14T16:51:08.886Z"
   },
   {
    "duration": 11,
    "start_time": "2022-03-14T16:51:09.255Z"
   },
   {
    "duration": 23,
    "start_time": "2022-03-14T16:51:09.269Z"
   },
   {
    "duration": 22,
    "start_time": "2022-03-14T16:51:09.295Z"
   },
   {
    "duration": 25,
    "start_time": "2022-03-14T16:51:09.320Z"
   },
   {
    "duration": 41,
    "start_time": "2022-03-14T16:51:09.348Z"
   },
   {
    "duration": 13,
    "start_time": "2022-03-14T16:51:09.392Z"
   },
   {
    "duration": 27,
    "start_time": "2022-03-14T16:51:09.408Z"
   },
   {
    "duration": 11,
    "start_time": "2022-03-14T16:57:14.274Z"
   },
   {
    "duration": 10,
    "start_time": "2022-03-14T16:57:56.671Z"
   },
   {
    "duration": 13,
    "start_time": "2022-03-14T16:58:49.590Z"
   },
   {
    "duration": 10,
    "start_time": "2022-03-14T16:59:56.725Z"
   },
   {
    "duration": 21,
    "start_time": "2022-03-14T17:00:23.112Z"
   },
   {
    "duration": 21,
    "start_time": "2022-03-14T17:00:39.087Z"
   },
   {
    "duration": 1305,
    "start_time": "2022-03-14T17:15:49.932Z"
   },
   {
    "duration": 524,
    "start_time": "2022-03-14T17:16:35.651Z"
   },
   {
    "duration": 21,
    "start_time": "2022-03-14T17:16:58.558Z"
   },
   {
    "duration": 1421,
    "start_time": "2022-03-14T17:21:57.627Z"
   },
   {
    "duration": 31,
    "start_time": "2022-03-14T17:21:59.051Z"
   },
   {
    "duration": 24,
    "start_time": "2022-03-14T17:21:59.085Z"
   },
   {
    "duration": 35,
    "start_time": "2022-03-14T17:21:59.112Z"
   },
   {
    "duration": 52,
    "start_time": "2022-03-14T17:21:59.149Z"
   },
   {
    "duration": 14,
    "start_time": "2022-03-14T17:21:59.203Z"
   },
   {
    "duration": 30,
    "start_time": "2022-03-14T17:21:59.219Z"
   },
   {
    "duration": 30,
    "start_time": "2022-03-14T17:21:59.253Z"
   },
   {
    "duration": 27,
    "start_time": "2022-03-14T17:21:59.286Z"
   },
   {
    "duration": 22,
    "start_time": "2022-03-14T17:21:59.315Z"
   },
   {
    "duration": 30,
    "start_time": "2022-03-14T17:21:59.340Z"
   },
   {
    "duration": 23,
    "start_time": "2022-03-14T17:21:59.372Z"
   },
   {
    "duration": 17,
    "start_time": "2022-03-14T17:21:59.398Z"
   },
   {
    "duration": 9,
    "start_time": "2022-03-14T17:21:59.418Z"
   },
   {
    "duration": 307,
    "start_time": "2022-03-14T17:21:59.429Z"
   },
   {
    "duration": 288,
    "start_time": "2022-03-14T17:21:59.739Z"
   },
   {
    "duration": 37,
    "start_time": "2022-03-14T17:22:00.030Z"
   },
   {
    "duration": 358,
    "start_time": "2022-03-14T17:22:00.070Z"
   },
   {
    "duration": 342,
    "start_time": "2022-03-14T17:22:00.431Z"
   },
   {
    "duration": 441,
    "start_time": "2022-03-14T17:22:00.783Z"
   },
   {
    "duration": 340,
    "start_time": "2022-03-14T17:22:01.226Z"
   },
   {
    "duration": 442,
    "start_time": "2022-03-14T17:22:01.569Z"
   },
   {
    "duration": 182,
    "start_time": "2022-03-14T17:22:02.016Z"
   },
   {
    "duration": 336,
    "start_time": "2022-03-14T17:22:02.201Z"
   },
   {
    "duration": 463,
    "start_time": "2022-03-14T17:22:02.540Z"
   },
   {
    "duration": 5,
    "start_time": "2022-03-14T17:22:03.005Z"
   },
   {
    "duration": 309,
    "start_time": "2022-03-14T17:22:03.013Z"
   },
   {
    "duration": 460,
    "start_time": "2022-03-14T17:22:03.325Z"
   },
   {
    "duration": 7,
    "start_time": "2022-03-14T17:22:03.788Z"
   },
   {
    "duration": 495,
    "start_time": "2022-03-14T17:22:03.797Z"
   },
   {
    "duration": 214,
    "start_time": "2022-03-14T17:22:04.295Z"
   },
   {
    "duration": 8,
    "start_time": "2022-03-14T17:22:04.512Z"
   },
   {
    "duration": 18,
    "start_time": "2022-03-14T17:22:04.522Z"
   },
   {
    "duration": 14,
    "start_time": "2022-03-14T17:22:04.542Z"
   },
   {
    "duration": 14,
    "start_time": "2022-03-14T17:22:04.583Z"
   },
   {
    "duration": 13,
    "start_time": "2022-03-14T17:22:04.600Z"
   },
   {
    "duration": 10,
    "start_time": "2022-03-14T17:22:04.615Z"
   },
   {
    "duration": 55,
    "start_time": "2022-03-14T17:22:04.628Z"
   },
   {
    "duration": 1011,
    "start_time": "2022-03-14T18:48:31.449Z"
   },
   {
    "duration": 19,
    "start_time": "2022-03-14T18:48:32.462Z"
   },
   {
    "duration": 11,
    "start_time": "2022-03-14T18:48:32.483Z"
   },
   {
    "duration": 11,
    "start_time": "2022-03-14T18:48:32.495Z"
   },
   {
    "duration": 61,
    "start_time": "2022-03-14T18:48:32.507Z"
   },
   {
    "duration": 9,
    "start_time": "2022-03-14T18:48:32.570Z"
   },
   {
    "duration": 7,
    "start_time": "2022-03-14T18:48:32.580Z"
   },
   {
    "duration": 13,
    "start_time": "2022-03-14T18:48:32.590Z"
   },
   {
    "duration": 4,
    "start_time": "2022-03-14T18:48:32.605Z"
   },
   {
    "duration": 25,
    "start_time": "2022-03-14T18:48:32.610Z"
   },
   {
    "duration": 22,
    "start_time": "2022-03-14T18:48:32.637Z"
   },
   {
    "duration": 11,
    "start_time": "2022-03-14T18:48:32.661Z"
   },
   {
    "duration": 12,
    "start_time": "2022-03-14T18:48:32.674Z"
   },
   {
    "duration": 4,
    "start_time": "2022-03-14T18:48:32.688Z"
   },
   {
    "duration": 213,
    "start_time": "2022-03-14T18:48:32.694Z"
   },
   {
    "duration": 154,
    "start_time": "2022-03-14T18:48:32.909Z"
   },
   {
    "duration": 15,
    "start_time": "2022-03-14T18:48:33.065Z"
   },
   {
    "duration": 218,
    "start_time": "2022-03-14T18:48:33.082Z"
   },
   {
    "duration": 209,
    "start_time": "2022-03-14T18:48:33.302Z"
   },
   {
    "duration": 363,
    "start_time": "2022-03-14T18:48:33.513Z"
   },
   {
    "duration": 196,
    "start_time": "2022-03-14T18:48:33.879Z"
   },
   {
    "duration": 293,
    "start_time": "2022-03-14T18:48:34.077Z"
   },
   {
    "duration": 121,
    "start_time": "2022-03-14T18:48:34.374Z"
   },
   {
    "duration": 205,
    "start_time": "2022-03-14T18:48:34.498Z"
   },
   {
    "duration": 311,
    "start_time": "2022-03-14T18:48:34.705Z"
   },
   {
    "duration": 17,
    "start_time": "2022-03-14T18:48:35.018Z"
   },
   {
    "duration": 175,
    "start_time": "2022-03-14T18:48:35.037Z"
   },
   {
    "duration": 320,
    "start_time": "2022-03-14T18:48:35.214Z"
   },
   {
    "duration": 4,
    "start_time": "2022-03-14T18:48:35.536Z"
   },
   {
    "duration": 265,
    "start_time": "2022-03-14T18:48:35.542Z"
   },
   {
    "duration": 105,
    "start_time": "2022-03-14T18:48:35.809Z"
   },
   {
    "duration": 6,
    "start_time": "2022-03-14T18:48:35.932Z"
   },
   {
    "duration": 8,
    "start_time": "2022-03-14T18:48:35.940Z"
   },
   {
    "duration": 10,
    "start_time": "2022-03-14T18:48:35.950Z"
   },
   {
    "duration": 9,
    "start_time": "2022-03-14T18:48:35.962Z"
   },
   {
    "duration": 16,
    "start_time": "2022-03-14T18:48:35.972Z"
   },
   {
    "duration": 6,
    "start_time": "2022-03-14T18:48:35.990Z"
   },
   {
    "duration": 43,
    "start_time": "2022-03-14T18:48:35.998Z"
   }
  ],
  "kernelspec": {
   "display_name": "Python 3 (ipykernel)",
   "language": "python",
   "name": "python3"
  },
  "language_info": {
   "codemirror_mode": {
    "name": "ipython",
    "version": 3
   },
   "file_extension": ".py",
   "mimetype": "text/x-python",
   "name": "python",
   "nbconvert_exporter": "python",
   "pygments_lexer": "ipython3",
   "version": "3.9.5"
  },
  "toc": {
   "base_numbering": 1,
   "nav_menu": {},
   "number_sections": true,
   "sideBar": true,
   "skip_h1_title": true,
   "title_cell": "Table of Contents",
   "title_sidebar": "Contents",
   "toc_cell": false,
   "toc_position": {},
   "toc_section_display": true,
   "toc_window_display": false
  }
 },
 "nbformat": 4,
 "nbformat_minor": 2
}
